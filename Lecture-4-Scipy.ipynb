{
 "metadata": {
  "name": "",
  "signature": "sha256:765fb6db9f2936ee5b2612bc434bee71502bc464add813e31af8a269a75d60e7"
 },
 "nbformat": 3,
 "nbformat_minor": 0,
 "worksheets": [
  {
   "cells": [
    {
     "cell_type": "heading",
     "level": 1,
     "metadata": {},
     "source": [
      "SciPy - Library of scientific algorithms for Python"
     ]
    },
    {
     "cell_type": "markdown",
     "metadata": {},
     "source": [
      "J.R. Johansson (robert@riken.jp) http://dml.riken.jp/~rob/\n",
      "\n",
      "The latest version of this [IPython notebook](http://ipython.org/notebook.html) lecture is available at [http://github.com/jrjohansson/scientific-python-lectures](http://github.com/jrjohansson/scientific-python-lectures).\n",
      "\n",
      "The other notebooks in this lecture series are indexed at [http://jrjohansson.github.com](http://jrjohansson.github.com)."
     ]
    },
    {
     "cell_type": "code",
     "collapsed": false,
     "input": [
      "# what is this line all about? Answer in lecture 4\n",
      "%pylab inline\n",
      "from IPython.display import Image"
     ],
     "language": "python",
     "metadata": {},
     "outputs": [
      {
       "output_type": "stream",
       "stream": "stdout",
       "text": [
        "Populating the interactive namespace from numpy and matplotlib\n"
       ]
      }
     ],
     "prompt_number": 5
    },
    {
     "cell_type": "heading",
     "level": 2,
     "metadata": {},
     "source": [
      "Introduction"
     ]
    },
    {
     "cell_type": "markdown",
     "metadata": {},
     "source": [
      "The SciPy framework builds on top of the low-level NumPy framework for multidimensional arrays, and provides a large number of higher-level scientific algorithms. Some of the topics that SciPy covers are:\n",
      "\n",
      "* Special functions ([scipy.special](http://docs.scipy.org/doc/scipy/reference/special.html))\n",
      "* Integration ([scipy.integrate](http://docs.scipy.org/doc/scipy/reference/integrate.html))\n",
      "* Optimization ([scipy.optimize](http://docs.scipy.org/doc/scipy/reference/optimize.html))\n",
      "* Interpolation ([scipy.interpolate](http://docs.scipy.org/doc/scipy/reference/interpolate.html))\n",
      "* Fourier Transforms ([scipy.fftpack](http://docs.scipy.org/doc/scipy/reference/fftpack.html))\n",
      "* Signal Processing ([scipy.signal](http://docs.scipy.org/doc/scipy/reference/signal.html))\n",
      "* Linear Algebra ([scipy.linalg](http://docs.scipy.org/doc/scipy/reference/linalg.html))\n",
      "* Sparse Eigenvalue Problems ([scipy.sparse](http://docs.scipy.org/doc/scipy/reference/sparse.html))\n",
      "* Statistics ([scipy.stats](http://docs.scipy.org/doc/scipy/reference/stats.html))\n",
      "* Multi-dimensional image processing ([scipy.ndimage](http://docs.scipy.org/doc/scipy/reference/ndimage.html))\n",
      "* File IO ([scipy.io](http://docs.scipy.org/doc/scipy/reference/io.html))\n",
      "\n",
      "Each of these submodules provides a number of functions and classes that can be used to solve problems in their respective topics.\n",
      "\n",
      "In this lecture we will look at how to use some of these subpackages.\n",
      "\n",
      "To access the SciPy package in a Python program, we start by importing everything from the `scipy` module."
     ]
    },
    {
     "cell_type": "code",
     "collapsed": false,
     "input": [
      "from scipy import *"
     ],
     "language": "python",
     "metadata": {},
     "outputs": [],
     "prompt_number": 2
    },
    {
     "cell_type": "markdown",
     "metadata": {},
     "source": [
      "If we only need to use part of the SciPy framework we can selectively include only those modules we are interested in. For example, to include the linear algebra package under the name `la`, we can do:"
     ]
    },
    {
     "cell_type": "code",
     "collapsed": false,
     "input": [
      "import scipy.linalg as la"
     ],
     "language": "python",
     "metadata": {},
     "outputs": [],
     "prompt_number": 3
    },
    {
     "cell_type": "heading",
     "level": 2,
     "metadata": {},
     "source": [
      "Special functions"
     ]
    },
    {
     "cell_type": "markdown",
     "metadata": {},
     "source": [
      "A large number of mathematical special functions are important for many computional physics problems. SciPy provides implementations of a very extensive set of special functions. For details, see the list of functions in the reference documention at http://docs.scipy.org/doc/scipy/reference/special.html#module-scipy.special. \n",
      "\n",
      "To demonstrate the typical usage of special functions we will look in more detail at the Bessel functions:"
     ]
    },
    {
     "cell_type": "code",
     "collapsed": false,
     "input": [
      "#\n",
      "# The scipy.special module includes a large number of Bessel-functions\n",
      "# Here we will use the functions jn and yn, which are the Bessel functions \n",
      "# of the first and second kind and real-valued order. We also include the \n",
      "# function jn_zeros and yn_zeros that gives the zeroes of the functions jn\n",
      "# and yn.\n",
      "#\n",
      "from scipy.special import jn, yn, jn_zeros, yn_zeros"
     ],
     "language": "python",
     "metadata": {},
     "outputs": [],
     "prompt_number": 1
    },
    {
     "cell_type": "code",
     "collapsed": false,
     "input": [
      "n = 0    # order\n",
      "x = 0.0\n",
      "\n",
      "# Bessel function of first kind\n",
      "print \"J_%d(%f) = %f\" % (n, x, jn(n, x))\n",
      "\n",
      "x = 1.0\n",
      "# Bessel function of second kind\n",
      "print \"Y_%d(%f) = %f\" % (n, x, yn(n, x))"
     ],
     "language": "python",
     "metadata": {},
     "outputs": [
      {
       "output_type": "stream",
       "stream": "stdout",
       "text": [
        "J_0(0.000000) = 1.000000\n",
        "Y_0(1.000000) = 0.088257\n"
       ]
      }
     ],
     "prompt_number": 2
    },
    {
     "cell_type": "code",
     "collapsed": false,
     "input": [
      "x = linspace(0, 10, 100)\n",
      "\n",
      "fig, ax = subplots()\n",
      "for n in range(4):\n",
      "    ax.plot(x, jn(n, x), label=r\"$J_%d(x)$\" % n)\n",
      "ax.legend();"
     ],
     "language": "python",
     "metadata": {},
     "outputs": [
      {
       "metadata": {},
       "output_type": "display_data",
       "png": "[encoded data removed]",
       "text": [
        "<matplotlib.figure.Figure at 0x7f36302ed910>"
       ]
      }
     ],
     "prompt_number": 6
    },
    {
     "cell_type": "code",
     "collapsed": false,
     "input": [
      "# zeros of Bessel functions\n",
      "n = 0 # order\n",
      "m = 4 # number of roots to compute\n",
      "jn_zeros(n, m)"
     ],
     "language": "python",
     "metadata": {},
     "outputs": [
      {
       "metadata": {},
       "output_type": "pyout",
       "prompt_number": 7,
       "text": [
        "array([  2.40482556,   5.52007811,   8.65372791,  11.79153444])"
       ]
      }
     ],
     "prompt_number": 7
    },
    {
     "cell_type": "heading",
     "level": 2,
     "metadata": {},
     "source": [
      "Integration"
     ]
    },
    {
     "cell_type": "heading",
     "level": 3,
     "metadata": {},
     "source": [
      "Numerical integration: quadrature"
     ]
    },
    {
     "cell_type": "markdown",
     "metadata": {},
     "source": [
      "Numerical evaluation of a function of the type\n",
      "\n",
      "$\\displaystyle \\int_a^b f(x) dx$\n",
      "\n",
      "is called *numerical quadrature*, or simply *quadature*. SciPy provides a series of functions for different kind of quadrature, for example the `quad`, `dblquad` and `tplquad` for single, double and triple integrals, respectively.\n",
      "\n"
     ]
    },
    {
     "cell_type": "code",
     "collapsed": false,
     "input": [
      "from scipy.integrate import quad, dblquad, tplquad\n",
      "quad?"
     ],
     "language": "python",
     "metadata": {},
     "outputs": [],
     "prompt_number": 10
    },
    {
     "cell_type": "markdown",
     "metadata": {},
     "source": [
      "The `quad` function takes a large number of optional arguments, which can be used to fine-tune the behaviour of the function (try `help(quad)` for details).\n",
      "\n",
      "The basic usage is as follows:"
     ]
    },
    {
     "cell_type": "code",
     "collapsed": false,
     "input": [
      "scipy.integrate.quad_explain()"
     ],
     "language": "python",
     "metadata": {},
     "outputs": [
      {
       "output_type": "stream",
       "stream": "stdout",
       "text": [
        "\n",
        "    Compute a definite integral.\n",
        "\n",
        "    Integrate func from `a` to `b` (possibly infinite interval) using a\n",
        "    technique from the Fortran library QUADPACK.\n",
        "\n",
        "    Parameters\n",
        "    ----------\n",
        "    func : function\n",
        "        A Python function or method to integrate.  If `func` takes many\n",
        "        arguments, it is integrated along the axis corresponding to the\n",
        "        first argument.\n",
        "        If the user desires improved integration performance, then f may\n",
        "        instead be a ``ctypes`` function of the form:\n",
        "\n",
        "            f(int n, double args[n]),\n",
        "\n",
        "        where ``args`` is an array of function arguments and ``n`` is the\n",
        "        length of ``args``. ``f.argtypes`` should be set to\n",
        "        ``(c_int, c_double)``, and ``f.restype`` should be ``(c_double,)``.\n",
        "    a : float\n",
        "        Lower limit of integration (use -numpy.inf for -infinity).\n",
        "    b : float\n",
        "        Upper limit of integration (use numpy.inf for +infinity).\n",
        "    args : tuple, optional\n",
        "        Extra arguments to pass to `func`.\n",
        "    full_output : int, optional\n",
        "        Non-zero to return a dictionary of integration information.\n",
        "        If non-zero, warning messages are also suppressed and the\n",
        "        message is appended to the output tuple.\n",
        "\n",
        "    Returns\n",
        "    -------\n",
        "    y : float\n",
        "        The integral of func from `a` to `b`.\n",
        "    abserr : float\n",
        "        An estimate of the absolute error in the result.\n",
        "    infodict : dict\n",
        "        A dictionary containing additional information.\n",
        "        Run scipy.integrate.quad_explain() for more information.\n",
        "    message :\n",
        "        A convergence message.\n",
        "    explain :\n",
        "        Appended only with 'cos' or 'sin' weighting and infinite\n",
        "        integration limits, it contains an explanation of the codes in\n",
        "        infodict['ierlst']\n",
        "\n",
        "    Other Parameters\n",
        "    ----------------\n",
        "    epsabs : float or int, optional\n",
        "        Absolute error tolerance.\n",
        "    epsrel : float or int, optional\n",
        "        Relative error tolerance.\n",
        "    limit : float or int, optional\n",
        "        An upper bound on the number of subintervals used in the adaptive\n",
        "        algorithm.\n",
        "    points : (sequence of floats,ints), optional\n",
        "        A sequence of break points in the bounded integration interval\n",
        "        where local difficulties of the integrand may occur (e.g.,\n",
        "        singularities, discontinuities). The sequence does not have\n",
        "        to be sorted.\n",
        "    weight : float or int, optional\n",
        "        String indicating weighting function. Full explanation for this\n",
        "        and the remaining arguments can be found below.\n",
        "    wvar : optional\n",
        "        Variables for use with weighting functions.\n",
        "    wopts : optional\n",
        "        Optional input for reusing Chebyshev moments.\n",
        "    maxp1 : float or int, optional\n",
        "        An upper bound on the number of Chebyshev moments.\n",
        "    limlst : int, optional\n",
        "        Upper bound on the number of cycles (>=3) for use with a sinusoidal\n",
        "        weighting and an infinite end-point.\n",
        "\n",
        "    See Also\n",
        "    --------\n",
        "    dblquad : double integral\n",
        "    tplquad : triple integral\n",
        "    nquad : n-dimensional integrals (uses `quad` recursively)\n",
        "    fixed_quad : fixed-order Gaussian quadrature\n",
        "    quadrature : adaptive Gaussian quadrature\n",
        "    odeint : ODE integrator\n",
        "    ode : ODE integrator\n",
        "    simps : integrator for sampled data\n",
        "    romb : integrator for sampled data\n",
        "    scipy.special : for coefficients and roots of orthogonal polynomials\n",
        "\n",
        "    Notes\n",
        "    -----\n",
        "\n",
        "    **Extra information for quad() inputs and outputs**\n",
        "\n",
        "    If full_output is non-zero, then the third output argument\n",
        "    (infodict) is a dictionary with entries as tabulated below.  For\n",
        "    infinite limits, the range is transformed to (0,1) and the\n",
        "    optional outputs are given with respect to this transformed range.\n",
        "    Let M be the input argument limit and let K be infodict['last'].\n",
        "    The entries are:\n",
        "\n",
        "    'neval'\n",
        "        The number of function evaluations.\n",
        "    'last'\n",
        "        The number, K, of subintervals produced in the subdivision process.\n",
        "    'alist'\n",
        "        A rank-1 array of length M, the first K elements of which are the\n",
        "        left end points of the subintervals in the partition of the\n",
        "        integration range.\n",
        "    'blist'\n",
        "        A rank-1 array of length M, the first K elements of which are the\n",
        "        right end points of the subintervals.\n",
        "    'rlist'\n",
        "        A rank-1 array of length M, the first K elements of which are the\n",
        "        integral approximations on the subintervals.\n",
        "    'elist'\n",
        "        A rank-1 array of length M, the first K elements of which are the\n",
        "        moduli of the absolute error estimates on the subintervals.\n",
        "    'iord'\n",
        "        A rank-1 integer array of length M, the first L elements of\n",
        "        which are pointers to the error estimates over the subintervals\n",
        "        with ``L=K`` if ``K<=M/2+2`` or ``L=M+1-K`` otherwise. Let I be the\n",
        "        sequence ``infodict['iord']`` and let E be the sequence\n",
        "        ``infodict['elist']``.  Then ``E[I[1]], ..., E[I[L]]`` forms a\n",
        "        decreasing sequence.\n",
        "\n",
        "    If the input argument points is provided (i.e. it is not None),\n",
        "    the following additional outputs are placed in the output\n",
        "    dictionary.  Assume the points sequence is of length P.\n",
        "\n",
        "    'pts'\n",
        "        A rank-1 array of length P+2 containing the integration limits\n",
        "        and the break points of the intervals in ascending order.\n",
        "        This is an array giving the subintervals over which integration\n",
        "        will occur.\n",
        "    'level'\n",
        "        A rank-1 integer array of length M (=limit), containing the\n",
        "        subdivision levels of the subintervals, i.e., if (aa,bb) is a\n",
        "        subinterval of ``(pts[1], pts[2])`` where ``pts[0]`` and ``pts[2]``\n",
        "        are adjacent elements of ``infodict['pts']``, then (aa,bb) has level l\n",
        "        if ``|bb-aa| = |pts[2]-pts[1]| * 2**(-l)``.\n",
        "    'ndin'\n",
        "        A rank-1 integer array of length P+2.  After the first integration\n",
        "        over the intervals (pts[1], pts[2]), the error estimates over some\n",
        "        of the intervals may have been increased artificially in order to\n",
        "        put their subdivision forward.  This array has ones in slots\n",
        "        corresponding to the subintervals for which this happens.\n",
        "\n",
        "    **Weighting the integrand**\n",
        "\n",
        "    The input variables, *weight* and *wvar*, are used to weight the\n",
        "    integrand by a select list of functions.  Different integration\n",
        "    methods are used to compute the integral with these weighting\n",
        "    functions.  The possible values of weight and the corresponding\n",
        "    weighting functions are.\n",
        "\n",
        "    ==========  ===================================   =====================\n",
        "    ``weight``  Weight function used                  ``wvar``\n",
        "    ==========  ===================================   =====================\n",
        "    'cos'       cos(w*x)                              wvar = w\n",
        "    'sin'       sin(w*x)                              wvar = w\n",
        "    'alg'       g(x) = ((x-a)**alpha)*((b-x)**beta)   wvar = (alpha, beta)\n",
        "    'alg-loga'  g(x)*log(x-a)                         wvar = (alpha, beta)\n",
        "    'alg-logb'  g(x)*log(b-x)                         wvar = (alpha, beta)\n",
        "    'alg-log'   g(x)*log(x-a)*log(b-x)                wvar = (alpha, beta)\n",
        "    'cauchy'    1/(x-c)                               wvar = c\n",
        "    ==========  ===================================   =====================\n",
        "\n",
        "    wvar holds the parameter w, (alpha, beta), or c depending on the weight\n",
        "    selected.  In these expressions, a and b are the integration limits.\n",
        "\n",
        "    For the 'cos' and 'sin' weighting, additional inputs and outputs are\n",
        "    available.\n",
        "\n",
        "    For finite integration limits, the integration is performed using a\n",
        "    Clenshaw-Curtis method which uses Chebyshev moments.  For repeated\n",
        "    calculations, these moments are saved in the output dictionary:\n",
        "\n",
        "    'momcom'\n",
        "        The maximum level of Chebyshev moments that have been computed,\n",
        "        i.e., if ``M_c`` is ``infodict['momcom']`` then the moments have been\n",
        "        computed for intervals of length ``|b-a| * 2**(-l)``,\n",
        "        ``l=0,1,...,M_c``.\n",
        "    'nnlog'\n",
        "        A rank-1 integer array of length M(=limit), containing the\n",
        "        subdivision levels of the subintervals, i.e., an element of this\n",
        "        array is equal to l if the corresponding subinterval is\n",
        "        ``|b-a|* 2**(-l)``.\n",
        "    'chebmo'\n",
        "        A rank-2 array of shape (25, maxp1) containing the computed\n",
        "        Chebyshev moments.  These can be passed on to an integration\n",
        "        over the same interval by passing this array as the second\n",
        "        element of the sequence wopts and passing infodict['momcom'] as\n",
        "        the first element.\n",
        "\n",
        "    If one of the integration limits is infinite, then a Fourier integral is\n",
        "    computed (assuming w neq 0).  If full_output is 1 and a numerical error\n",
        "    is encountered, besides the error message attached to the output tuple,\n",
        "    a dictionary is also appended to the output tuple which translates the\n",
        "    error codes in the array ``info['ierlst']`` to English messages.  The\n",
        "    output information dictionary contains the following entries instead of\n",
        "    'last', 'alist', 'blist', 'rlist', and 'elist':\n",
        "\n",
        "    'lst'\n",
        "        The number of subintervals needed for the integration (call it ``K_f``).\n",
        "    'rslst'\n",
        "        A rank-1 array of length M_f=limlst, whose first ``K_f`` elements\n",
        "        contain the integral contribution over the interval\n",
        "        ``(a+(k-1)c, a+kc)`` where ``c = (2*floor(|w|) + 1) * pi / |w|``\n",
        "        and ``k=1,2,...,K_f``.\n",
        "    'erlst'\n",
        "        A rank-1 array of length ``M_f`` containing the error estimate\n",
        "        corresponding to the interval in the same position in\n",
        "        ``infodict['rslist']``.\n",
        "    'ierlst'\n",
        "        A rank-1 integer array of length ``M_f`` containing an error flag\n",
        "        corresponding to the interval in the same position in\n",
        "        ``infodict['rslist']``.  See the explanation dictionary (last entry\n",
        "        in the output tuple) for the meaning of the codes.\n",
        "\n",
        "    Examples\n",
        "    --------\n",
        "    Calculate :math:`\\int^4_0 x^2 dx` and compare with an analytic result\n",
        "\n",
        "    >>> from scipy import integrate\n",
        "    >>> x2 = lambda x: x**2\n",
        "    >>> integrate.quad(x2, 0, 4)\n",
        "    (21.333333333333332, 2.3684757858670003e-13)\n",
        "    >>> print(4**3 / 3.)  # analytical result\n",
        "    21.3333333333\n",
        "\n",
        "    Calculate :math:`\\int^\\infty_0 e^{-x} dx`\n",
        "\n",
        "    >>> invexp = lambda x: np.exp(-x)\n",
        "    >>> integrate.quad(invexp, 0, np.inf)\n",
        "    (1.0, 5.842605999138044e-11)\n",
        "\n",
        "    >>> f = lambda x,a : a*x\n",
        "    >>> y, err = integrate.quad(f, 0, 1, args=(1,))\n",
        "    >>> y\n",
        "    0.5\n",
        "    >>> y, err = integrate.quad(f, 0, 1, args=(3,))\n",
        "    >>> y\n",
        "    1.5\n",
        "\n",
        "    Calculate :math:`\\int^1_0 x^2 + y^2 dx` with ctypes, holding\n",
        "    y parameter as 1::\n",
        "\n",
        "        testlib.c =>\n",
        "            double func(int n, double args[n]){\n",
        "                return args[0]*args[0] + args[1]*args[1];}\n",
        "        compile to library testlib.*\n",
        "\n",
        "    >>> from scipy import integrate\n",
        "    >>> import ctypes\n",
        "    >>> lib = ctypes.CDLL('/home/.../testlib.*') #use absolute path\n",
        "    >>> lib.func.restype = ctypes.c_double\n",
        "    >>> lib.func.argtypes = (ctypes.c_int,ctypes.c_double)\n",
        "    >>> integrate.quad(lib.func,0,1,(1))\n",
        "    (1.3333333333333333, 1.4802973661668752e-14)\n",
        "    >>> print((1.0**3/3.0 + 1.0) - (0.0**3/3.0 + 0.0)) #Analytic result\n",
        "    1.3333333333333333\n",
        "\n",
        "    "
       ]
      }
     ],
     "prompt_number": 13
    },
    {
     "cell_type": "code",
     "collapsed": false,
     "input": [
      "# define a simple function for the integrand\n",
      "def f(x):\n",
      "    return x"
     ],
     "language": "python",
     "metadata": {},
     "outputs": [],
     "prompt_number": 11
    },
    {
     "cell_type": "code",
     "collapsed": false,
     "input": [
      "x_lower = 0 # the lower limit of x. Can also use +/-numpy.inf\n",
      "x_upper = 1 # the upper limit of x\n",
      "\n",
      "val, abserr = quad(f, x_lower, x_upper)\n",
      "\n",
      "print \"integral value =\", val, \", absolute error =\", abserr "
     ],
     "language": "python",
     "metadata": {},
     "outputs": [
      {
       "output_type": "stream",
       "stream": "stdout",
       "text": [
        "integral value = 0.5 , absolute error = 5.55111512313e-15\n"
       ]
      }
     ],
     "prompt_number": 12
    },
    {
     "cell_type": "markdown",
     "metadata": {},
     "source": [
      "If we need to pass extra arguments to integrand function we can use the `args` keyword argument:"
     ]
    },
    {
     "cell_type": "code",
     "collapsed": false,
     "input": [
      "def integrand(x, n):\n",
      "    \"\"\"\n",
      "    Bessel function of first kind and order n. \n",
      "    \"\"\"\n",
      "    return jn(n, x)\n",
      "\n",
      "\n",
      "x_lower = 0  # the lower limit of x\n",
      "x_upper = 10 # the upper limit of x\n",
      "\n",
      "val, abserr = quad(integrand, x_lower, x_upper, args=(3,))\n",
      "\n",
      "print val, abserr "
     ],
     "language": "python",
     "metadata": {},
     "outputs": [
      {
       "output_type": "stream",
       "stream": "stdout",
       "text": [
        "0.736675137081 9.3891268825e-13\n"
       ]
      }
     ],
     "prompt_number": 13
    },
    {
     "cell_type": "markdown",
     "metadata": {},
     "source": [
      "For simple functions we can use a lambda function (name-less function) instead of explicitly defining a function for the integrand:"
     ]
    },
    {
     "cell_type": "code",
     "collapsed": false,
     "input": [
      "val, abserr = quad(lambda x: exp(-x ** 2), -Inf, Inf)\n",
      "\n",
      "print \"numerical  =\", val, abserr\n",
      "\n",
      "analytical = sqrt(pi)\n",
      "print \"analytical =\", analytical"
     ],
     "language": "python",
     "metadata": {},
     "outputs": [
      {
       "output_type": "stream",
       "stream": "stdout",
       "text": [
        "numerical  = 1.77245385091 1.42026367809e-08\n",
        "analytical = 1.77245385091\n"
       ]
      }
     ],
     "prompt_number": 14
    },
    {
     "cell_type": "markdown",
     "metadata": {},
     "source": [
      "As show in the example above, we can also use 'Inf' or '-Inf' as integral limits.\n",
      "\n",
      "Higher-dimensional integration works in the same way:"
     ]
    },
    {
     "cell_type": "code",
     "collapsed": false,
     "input": [
      "def integrand(x, y):\n",
      "    return exp(-x**2-y**2)\n",
      "\n",
      "x_lower = 0  \n",
      "x_upper = 10\n",
      "y_lower = 0\n",
      "y_upper = 10\n",
      "\n",
      "val, abserr = dblquad(integrand, x_lower, x_upper, lambda x : y_lower, lambda x: y_upper)\n",
      "\n",
      "print val, abserr "
     ],
     "language": "python",
     "metadata": {},
     "outputs": [
      {
       "output_type": "stream",
       "stream": "stdout",
       "text": [
        "0.785398163397 1.63822994214e-13\n"
       ]
      }
     ],
     "prompt_number": 15
    },
    {
     "cell_type": "markdown",
     "metadata": {},
     "source": [
      "Note how we had to pass lambda functions for the limits for the y integration, since these in general can be functions of x."
     ]
    },
    {
     "cell_type": "heading",
     "level": 2,
     "metadata": {},
     "source": [
      "Ordinary differential equations (ODEs)"
     ]
    },
    {
     "cell_type": "markdown",
     "metadata": {},
     "source": [
      "SciPy provides two different ways to solve ODEs: An API based on the function `odeint`, and object-oriented API based on the class `ode`. Usually `odeint` is easier to get started with, but the `ode` class offers some finer level of control.\n",
      "\n",
      "Here we will use the `odeint` functions. For more information about the class `ode`, try `help(ode)`. It does pretty much the same thing as `odeint`, but in an object-oriented fashion.\n",
      "\n",
      "To use `odeint`, first import it from the `scipy.integrate` module"
     ]
    },
    {
     "cell_type": "code",
     "collapsed": false,
     "input": [
      "from scipy.integrate import odeint, ode"
     ],
     "language": "python",
     "metadata": {},
     "outputs": [],
     "prompt_number": 16
    },
    {
     "cell_type": "markdown",
     "metadata": {},
     "source": [
      "A system of ODEs are usually formulated on standard form before it is attacked numerically. The standard form is:\n",
      "\n",
      "$y' = f(y, t)$\n",
      "\n",
      "where \n",
      "\n",
      "$y = [y_1(t), y_2(t), ..., y_n(t)]$ \n",
      "\n",
      "and $f$ is some function that gives the derivatives of the function $y_i(t)$. To solve an ODE we need to know the function $f$ and an initial condition, $y(0)$.\n",
      "\n",
      "Note that higher-order ODEs can always be written in this form by introducing new variables for the intermediate derivatives.\n",
      "\n",
      "Once we have defined the Python function `f` and array `y_0` (that is $f$ and $y(0)$ in the mathematical formulation), we can use the `odeint` function as:\n",
      "\n",
      "    y_t = odeint(f, y_0, t)\n",
      "\n",
      "where `t` is and array with time-coordinates for which to solve the ODE problem. `y_t` is an array with one row for each point in time in `t`, where each column corresponds to a solution `y_i(t)` at that point in time. \n",
      "\n",
      "We will see how we can implement `f` and `y_0` in Python code in the examples below."
     ]
    },
    {
     "cell_type": "markdown",
     "metadata": {},
     "source": [
      "#### Example: double pendulum"
     ]
    },
    {
     "cell_type": "markdown",
     "metadata": {},
     "source": [
      "Let's consider a physical example: The double compound pendulum, described in some detail here: http://en.wikipedia.org/wiki/Double_pendulum"
     ]
    },
    {
     "cell_type": "code",
     "collapsed": false,
     "input": [
      "Image(url='http://upload.wikimedia.org/wikipedia/commons/c/c9/Double-compound-pendulum-dimensioned.svg')"
     ],
     "language": "python",
     "metadata": {},
     "outputs": [
      {
       "html": [
        "<img src=\"http://upload.wikimedia.org/wikipedia/commons/c/c9/Double-compound-pendulum-dimensioned.svg\"/>"
       ],
       "metadata": {},
       "output_type": "pyout",
       "prompt_number": 17,
       "text": [
        "<IPython.core.display.Image at 0x7f363c1499d0>"
       ]
      }
     ],
     "prompt_number": 17
    },
    {
     "cell_type": "markdown",
     "metadata": {},
     "source": [
      "The equations of motion of the pendulum are given on the wiki page:\n",
      "\n",
      "${\\dot \\theta_1} = \\frac{6}{m\\ell^2} \\frac{ 2 p_{\\theta_1} - 3 \\cos(\\theta_1-\\theta_2) p_{\\theta_2}}{16 - 9 \\cos^2(\\theta_1-\\theta_2)}$\n",
      "\n",
      "${\\dot \\theta_2} = \\frac{6}{m\\ell^2} \\frac{ 8 p_{\\theta_2} - 3 \\cos(\\theta_1-\\theta_2) p_{\\theta_1}}{16 - 9 \\cos^2(\\theta_1-\\theta_2)}.$\n",
      "\n",
      "${\\dot p_{\\theta_1}} = -\\frac{1}{2} m \\ell^2 \\left [ {\\dot \\theta_1} {\\dot \\theta_2} \\sin (\\theta_1-\\theta_2) + 3 \\frac{g}{\\ell} \\sin \\theta_1 \\right ]$\n",
      "\n",
      "${\\dot p_{\\theta_2}} = -\\frac{1}{2} m \\ell^2 \\left [ -{\\dot \\theta_1} {\\dot \\theta_2} \\sin (\\theta_1-\\theta_2) +  \\frac{g}{\\ell} \\sin \\theta_2 \\right]$\n",
      "\n",
      "To make the Python code simpler to follow, let's introduce new variable names and the vector notation: $x = [\\theta_1, \\theta_2, p_{\\theta_1}, p_{\\theta_2}]$\n",
      "\n",
      "${\\dot x_1} = \\frac{6}{m\\ell^2} \\frac{ 2 x_3 - 3 \\cos(x_1-x_2) x_4}{16 - 9 \\cos^2(x_1-x_2)}$\n",
      "\n",
      "${\\dot x_2} = \\frac{6}{m\\ell^2} \\frac{ 8 x_4 - 3 \\cos(x_1-x_2) x_3}{16 - 9 \\cos^2(x_1-x_2)}$\n",
      "\n",
      "${\\dot x_3} = -\\frac{1}{2} m \\ell^2 \\left [ {\\dot x_1} {\\dot x_2} \\sin (x_1-x_2) + 3 \\frac{g}{\\ell} \\sin x_1 \\right ]$\n",
      "\n",
      "${\\dot x_4} = -\\frac{1}{2} m \\ell^2 \\left [ -{\\dot x_1} {\\dot x_2} \\sin (x_1-x_2) +  \\frac{g}{\\ell} \\sin x_2 \\right]$"
     ]
    },
    {
     "cell_type": "code",
     "collapsed": false,
     "input": [
      "g = 9.82\n",
      "L = 0.5\n",
      "m = 0.1\n",
      "\n",
      "def dx(x, t):\n",
      "    \"\"\"\n",
      "    The right-hand side of the pendulum ODE\n",
      "    \"\"\"\n",
      "    x1, x2, x3, x4 = x[0], x[1], x[2], x[3]\n",
      "    \n",
      "    dx1 = 6.0/(m*L**2) * (2 * x3 - 3 * cos(x1-x2) * x4)/(16 - 9 * cos(x1-x2)**2)\n",
      "    dx2 = 6.0/(m*L**2) * (8 * x4 - 3 * cos(x1-x2) * x3)/(16 - 9 * cos(x1-x2)**2)\n",
      "    dx3 = -0.5 * m * L**2 * ( dx1 * dx2 * sin(x1-x2) + 3 * (g/L) * sin(x1))\n",
      "    dx4 = -0.5 * m * L**2 * (-dx1 * dx2 * sin(x1-x2) + (g/L) * sin(x2))\n",
      "    \n",
      "    return [dx1, dx2, dx3, dx4]"
     ],
     "language": "python",
     "metadata": {},
     "outputs": [],
     "prompt_number": 18
    },
    {
     "cell_type": "code",
     "collapsed": false,
     "input": [
      "# choose an initial state\n",
      "x0 = [pi/4, pi/2, 0, 0]"
     ],
     "language": "python",
     "metadata": {},
     "outputs": [],
     "prompt_number": 19
    },
    {
     "cell_type": "code",
     "collapsed": false,
     "input": [
      "# time coodinate to solve the ODE for: from 0 to 10 seconds\n",
      "t = linspace(0, 10, 250)"
     ],
     "language": "python",
     "metadata": {},
     "outputs": [],
     "prompt_number": 20
    },
    {
     "cell_type": "code",
     "collapsed": false,
     "input": [
      "# solve the ODE problem\n",
      "x = odeint(dx, x0, t)"
     ],
     "language": "python",
     "metadata": {},
     "outputs": [],
     "prompt_number": 21
    },
    {
     "cell_type": "code",
     "collapsed": false,
     "input": [
      "# plot the angles as a function of time\n",
      "\n",
      "fig, axes = subplots(1,2, figsize=(12,4))\n",
      "axes[0].plot(t, x[:, 0], 'r', label=\"theta1\")\n",
      "axes[0].plot(t, x[:, 1], 'b', label=\"theta2\")\n",
      "\n",
      "\n",
      "x1 = + L * sin(x[:, 0])\n",
      "y1 = - L * cos(x[:, 0])\n",
      "\n",
      "x2 = x1 + L * sin(x[:, 1])\n",
      "y2 = y1 - L * cos(x[:, 1])\n",
      "    \n",
      "axes[1].plot(x1, y1, 'r', label=\"pendulum1\")\n",
      "axes[1].plot(x2, y2, 'b', label=\"pendulum2\")\n",
      "axes[1].set_ylim([-1, 0])\n",
      "axes[1].set_xlim([1, -1]);"
     ],
     "language": "python",
     "metadata": {},
     "outputs": [
      {
       "metadata": {},
       "output_type": "display_data",
       "png": "[encoded data removed]",
       "text": [
        "<matplotlib.figure.Figure at 0x7f36301a1a90>"
       ]
      }
     ],
     "prompt_number": 22
    },
    {
     "cell_type": "heading",
     "level": 4,
     "metadata": {},
     "source": [
      "Example: Damped harmonic oscillator"
     ]
    },
    {
     "cell_type": "markdown",
     "metadata": {},
     "source": [
      "ODE problems are important in computational physics, so we will look at one more example: the damped harmonic oscillation. This problem is well described on the wiki page: http://en.wikipedia.org/wiki/Damping\n",
      "\n",
      "The equation of motion for the damped oscillator is:\n",
      "\n",
      "$\\displaystyle \\frac{\\mathrm{d}^2x}{\\mathrm{d}t^2} + 2\\zeta\\omega_0\\frac{\\mathrm{d}x}{\\mathrm{d}t} + \\omega^2_0 x = 0$\n",
      "\n",
      "where $x$ is the position of the oscillator, $\\omega_0$ is the frequency, and $\\zeta$ is the damping ratio. To write this second-order ODE on standard form we introduce $p = \\frac{\\mathrm{d}x}{\\mathrm{d}t}$:\n",
      "\n",
      "$\\displaystyle \\frac{\\mathrm{d}p}{\\mathrm{d}t} = - 2\\zeta\\omega_0 p - \\omega^2_0 x$\n",
      "\n",
      "$\\displaystyle \\frac{\\mathrm{d}x}{\\mathrm{d}t} = p$\n",
      "\n",
      "In the implementation of this example we will add extra arguments to the RHS function for the ODE, rather than using global variables as we did in the previous example. As a consequence of the extra arguments to the RHS, we need to pass an keyword argument `args` to the `odeint` function:"
     ]
    },
    {
     "cell_type": "code",
     "collapsed": false,
     "input": [
      "def dy(y, t, zeta, w0):\n",
      "    \"\"\"\n",
      "    The right-hand side of the damped oscillator ODE\n",
      "    \"\"\"\n",
      "    x, p = y[0], y[1]\n",
      "    \n",
      "    dx = p\n",
      "    dp = -2 * zeta * w0 * p - w0**2 * x\n",
      "\n",
      "    return [dx, dp]"
     ],
     "language": "python",
     "metadata": {},
     "outputs": [],
     "prompt_number": 28
    },
    {
     "cell_type": "code",
     "collapsed": false,
     "input": [
      "# initial state: \n",
      "y0 = [1.0, 0.0]"
     ],
     "language": "python",
     "metadata": {},
     "outputs": [],
     "prompt_number": 29
    },
    {
     "cell_type": "code",
     "collapsed": false,
     "input": [
      "# time coodinate to solve the ODE for\n",
      "t = linspace(0, 10, 1000)\n",
      "w0 = 2*pi*1.0"
     ],
     "language": "python",
     "metadata": {},
     "outputs": [],
     "prompt_number": 30
    },
    {
     "cell_type": "code",
     "collapsed": false,
     "input": [
      "# solve the ODE problem for three different values of the damping ratio\n",
      "\n",
      "y1 = odeint(dy, y0, t, args=(0.0, w0)) # undamped\n",
      "y2 = odeint(dy, y0, t, args=(0.2, w0)) # under damped\n",
      "y3 = odeint(dy, y0, t, args=(1.0, w0)) # critial damping\n",
      "y4 = odeint(dy, y0, t, args=(5.0, w0)) # over damped"
     ],
     "language": "python",
     "metadata": {},
     "outputs": [],
     "prompt_number": 31
    },
    {
     "cell_type": "code",
     "collapsed": false,
     "input": [
      "fig, ax = subplots()\n",
      "ax.plot(t, y1[:,0], 'k', label=\"undamped\", linewidth=0.25)\n",
      "ax.plot(t, y2[:,0], 'r', label=\"under damped\")\n",
      "ax.plot(t, y3[:,0], 'b', label=r\"critical damping\")\n",
      "ax.plot(t, y4[:,0], 'g', label=\"over damped\")\n",
      "ax.legend();"
     ],
     "language": "python",
     "metadata": {},
     "outputs": [
      {
       "metadata": {},
       "output_type": "display_data",
       "png": "[encoded data removed]",
       "text": [
        "<matplotlib.figure.Figure at 0x7f36300bf790>"
       ]
      }
     ],
     "prompt_number": 32
    },
    {
     "cell_type": "heading",
     "level": 2,
     "metadata": {},
     "source": [
      "Linear algebra"
     ]
    },
    {
     "cell_type": "markdown",
     "metadata": {},
     "source": [
      "The linear algebra module contains a lot of matrix related functions, including linear equation solving, eigenvalue solvers, matrix functions (for example matrix-exponentiation), a number of different decompositions (SVD, LU, cholesky), etc. \n",
      "\n",
      "Detailed documetation is available at: http://docs.scipy.org/doc/scipy/reference/linalg.html\n",
      "\n",
      "Here we will look at how to use some of these functions:\n",
      "\n"
     ]
    },
    {
     "cell_type": "heading",
     "level": 3,
     "metadata": {},
     "source": [
      "Linear equation systems"
     ]
    },
    {
     "cell_type": "markdown",
     "metadata": {},
     "source": [
      "Linear equation systems on the matrix form\n",
      "\n",
      "$A x = b$\n",
      "\n",
      "where $A$ is a matrix and $x,b$ are vectors can be solved like:"
     ]
    },
    {
     "cell_type": "code",
     "collapsed": false,
     "input": [
      "A = array([[1,2,3], [4,5,6], [7,8,9]])\n",
      "b = array([1,2,3])"
     ],
     "language": "python",
     "metadata": {},
     "outputs": [],
     "prompt_number": 34
    },
    {
     "cell_type": "code",
     "collapsed": false,
     "input": [
      "x = solve(A, b)\n",
      "\n",
      "x"
     ],
     "language": "python",
     "metadata": {},
     "outputs": [
      {
       "metadata": {},
       "output_type": "pyout",
       "prompt_number": 35,
       "text": [
        "array([-0.33333333,  0.66666667,  0.        ])"
       ]
      }
     ],
     "prompt_number": 35
    },
    {
     "cell_type": "code",
     "collapsed": false,
     "input": [
      "# check\n",
      "dot(A, x) - b"
     ],
     "language": "python",
     "metadata": {},
     "outputs": [
      {
       "metadata": {},
       "output_type": "pyout",
       "prompt_number": 36,
       "text": [
        "array([ -1.11022302e-16,   0.00000000e+00,   0.00000000e+00])"
       ]
      }
     ],
     "prompt_number": 36
    },
    {
     "cell_type": "markdown",
     "metadata": {},
     "source": [
      "We can also do the same with\n",
      "\n",
      "$A X = B$\n",
      "\n",
      "where $A, B, X$ are matrices:"
     ]
    },
    {
     "cell_type": "code",
     "collapsed": false,
     "input": [
      "A = rand(3,3)\n",
      "B = rand(3,3)"
     ],
     "language": "python",
     "metadata": {},
     "outputs": [],
     "prompt_number": 37
    },
    {
     "cell_type": "code",
     "collapsed": false,
     "input": [
      "X = solve(A, B)"
     ],
     "language": "python",
     "metadata": {},
     "outputs": [],
     "prompt_number": 38
    },
    {
     "cell_type": "code",
     "collapsed": false,
     "input": [
      "X"
     ],
     "language": "python",
     "metadata": {},
     "outputs": [
      {
       "metadata": {},
       "output_type": "pyout",
       "prompt_number": 39,
       "text": [
        "array([[ 2.28587973,  5.88845235,  1.6750663 ],\n",
        "       [-4.88205838, -5.26531274, -1.37990347],\n",
        "       [ 1.75135926, -2.05969998, -0.09859636]])"
       ]
      }
     ],
     "prompt_number": 39
    },
    {
     "cell_type": "code",
     "collapsed": false,
     "input": [
      "# check\n",
      "norm(dot(A, X) - B)"
     ],
     "language": "python",
     "metadata": {},
     "outputs": [
      {
       "metadata": {},
       "output_type": "pyout",
       "prompt_number": 40,
       "text": [
        "6.2803698347351007e-16"
       ]
      }
     ],
     "prompt_number": 40
    },
    {
     "cell_type": "heading",
     "level": 3,
     "metadata": {},
     "source": [
      "Eigenvalues and eigenvectors"
     ]
    },
    {
     "cell_type": "markdown",
     "metadata": {},
     "source": [
      "The eigenvalue problem for a matrix $A$:\n",
      "\n",
      "$\\displaystyle A v_n = \\lambda_n v_n$\n",
      "\n",
      "where $v_n$ is the $n$th eigenvector and $\\lambda_n$ is the $n$th eigenvalue.\n",
      "\n",
      "To calculate eigenvalues of a matrix, use the `eigvals` and for calculating both eigenvalues and eigenvectors, use the function `eig`:"
     ]
    },
    {
     "cell_type": "code",
     "collapsed": false,
     "input": [
      "evals = eigvals(A)"
     ],
     "language": "python",
     "metadata": {},
     "outputs": [],
     "prompt_number": 41
    },
    {
     "cell_type": "code",
     "collapsed": false,
     "input": [
      "evals"
     ],
     "language": "python",
     "metadata": {},
     "outputs": [
      {
       "metadata": {},
       "output_type": "pyout",
       "prompt_number": 42,
       "text": [
        "array([ 1.06633891+0.j        , -0.12420467+0.10106325j,\n",
        "       -0.12420467-0.10106325j])"
       ]
      }
     ],
     "prompt_number": 42
    },
    {
     "cell_type": "code",
     "collapsed": false,
     "input": [
      "evals, evecs = eig(A)"
     ],
     "language": "python",
     "metadata": {},
     "outputs": [],
     "prompt_number": 43
    },
    {
     "cell_type": "code",
     "collapsed": false,
     "input": [
      "evals"
     ],
     "language": "python",
     "metadata": {},
     "outputs": [
      {
       "metadata": {},
       "output_type": "pyout",
       "prompt_number": 44,
       "text": [
        "array([ 1.06633891+0.j        , -0.12420467+0.10106325j,\n",
        "       -0.12420467-0.10106325j])"
       ]
      }
     ],
     "prompt_number": 44
    },
    {
     "cell_type": "code",
     "collapsed": false,
     "input": [
      "evecs"
     ],
     "language": "python",
     "metadata": {},
     "outputs": [
      {
       "metadata": {},
       "output_type": "pyout",
       "prompt_number": 45,
       "text": [
        "array([[ 0.89677688+0.j        , -0.30219843-0.30724366j,\n",
        "        -0.30219843+0.30724366j],\n",
        "       [ 0.35446145+0.j        ,  0.79483507+0.j        ,  0.79483507+0.j        ],\n",
        "       [ 0.26485526+0.j        , -0.20767208+0.37334563j,\n",
        "        -0.20767208-0.37334563j]])"
       ]
      }
     ],
     "prompt_number": 45
    },
    {
     "cell_type": "markdown",
     "metadata": {},
     "source": [
      "The eigenvectors corresponding to the $n$th eigenvalue (stored in `evals[n]`) is the $n$th *column* in `evecs`, i.e., `evecs[:,n]`. To verify this, let's try mutiplying eigenvectors with the matrix and compare to the product of the eigenvector and the eigenvalue:"
     ]
    },
    {
     "cell_type": "code",
     "collapsed": false,
     "input": [
      "n = 1\n",
      "\n",
      "norm(dot(A, evecs[:,n]) - evals[n] * evecs[:,n])"
     ],
     "language": "python",
     "metadata": {},
     "outputs": [
      {
       "metadata": {},
       "output_type": "pyout",
       "prompt_number": 46,
       "text": [
        "1.3964254612015911e-16"
       ]
      }
     ],
     "prompt_number": 46
    },
    {
     "cell_type": "markdown",
     "metadata": {},
     "source": [
      "There are also more specialized eigensolvers, like the `eigh` for Hermitian matrices. "
     ]
    },
    {
     "cell_type": "heading",
     "level": 3,
     "metadata": {},
     "source": [
      "Matrix operations"
     ]
    },
    {
     "cell_type": "code",
     "collapsed": false,
     "input": [
      "# the matrix inverse\n",
      "inv(A)"
     ],
     "language": "python",
     "metadata": {},
     "outputs": [
      {
       "metadata": {},
       "output_type": "pyout",
       "prompt_number": 47,
       "text": [
        "array([[-1.38585633,  1.36837431,  6.03633364],\n",
        "       [ 3.80855289, -4.76960426, -5.2571037 ],\n",
        "       [ 0.0689213 ,  2.4652602 , -2.5948838 ]])"
       ]
      }
     ],
     "prompt_number": 47
    },
    {
     "cell_type": "code",
     "collapsed": false,
     "input": [
      "# determinant\n",
      "det(A)"
     ],
     "language": "python",
     "metadata": {},
     "outputs": [
      {
       "metadata": {},
       "output_type": "pyout",
       "prompt_number": 48,
       "text": [
        "0.027341548212627968"
       ]
      }
     ],
     "prompt_number": 48
    },
    {
     "cell_type": "code",
     "collapsed": false,
     "input": [
      "# norms of various orders\n",
      "norm(A, ord=2), norm(A, ord=Inf)"
     ],
     "language": "python",
     "metadata": {},
     "outputs": [
      {
       "metadata": {},
       "output_type": "pyout",
       "prompt_number": 49,
       "text": [
        "(1.1657807164173386, 1.7872032588446576)"
       ]
      }
     ],
     "prompt_number": 49
    },
    {
     "cell_type": "heading",
     "level": 2,
     "metadata": {},
     "source": [
      "Interpolation"
     ]
    },
    {
     "cell_type": "markdown",
     "metadata": {},
     "source": [
      "Interpolation is simple and convenient in scipy: The `interp1d` function, when given arrays describing X and Y data, returns and object that behaves like a function that can be called for an arbitrary value of x (in the range covered by X), and it returns the corresponding interpolated y value:"
     ]
    },
    {
     "cell_type": "code",
     "collapsed": false,
     "input": [
      "from scipy.interpolate import *"
     ],
     "language": "python",
     "metadata": {},
     "outputs": [],
     "prompt_number": 110
    },
    {
     "cell_type": "code",
     "collapsed": false,
     "input": [
      "def f(x):\n",
      "    return sin(x)"
     ],
     "language": "python",
     "metadata": {},
     "outputs": [],
     "prompt_number": 111
    },
    {
     "cell_type": "code",
     "collapsed": false,
     "input": [
      "n = arange(0, 10)  \n",
      "x = linspace(0, 9, 100)\n",
      "\n",
      "y_meas = f(n) + 0.1 * randn(len(n)) # simulate measurement with noise\n",
      "y_real = f(x)\n",
      "\n",
      "linear_interpolation = interp1d(n, y_meas)\n",
      "y_interp1 = linear_interpolation(x)\n",
      "\n",
      "cubic_interpolation = interp1d(n, y_meas, kind='cubic')\n",
      "y_interp2 = cubic_interpolation(x)"
     ],
     "language": "python",
     "metadata": {},
     "outputs": [],
     "prompt_number": 112
    },
    {
     "cell_type": "code",
     "collapsed": false,
     "input": [
      "fig, ax = subplots(figsize=(10,4))\n",
      "ax.plot(n, y_meas, 'bs', label='noisy data')\n",
      "ax.plot(x, y_real, 'k', lw=2, label='true function')\n",
      "ax.plot(x, y_interp1, 'r', label='linear interp')\n",
      "ax.plot(x, y_interp2, 'g', label='cubic interp')\n",
      "ax.legend(loc=3);"
     ],
     "language": "python",
     "metadata": {},
     "outputs": [
      {
       "metadata": {},
       "output_type": "display_data",
       "png": "[encoded data removed]"
      }
     ],
     "prompt_number": 114
    },
    {
     "cell_type": "heading",
     "level": 2,
     "metadata": {},
     "source": [
      "Further reading"
     ]
    },
    {
     "cell_type": "markdown",
     "metadata": {},
     "source": [
      "* http://www.scipy.org - The official web page for the SciPy project.\n",
      "* http://docs.scipy.org/doc/scipy/reference/tutorial/index.html - A tutorial on how to get started using SciPy. \n",
      "* https://github.com/scipy/scipy/ - The SciPy source code. "
     ]
    }
   ],
   "metadata": {}
  }
 ]
}