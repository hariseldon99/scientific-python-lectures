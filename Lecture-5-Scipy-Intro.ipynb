{
 "cells": [
  {
   "cell_type": "markdown",
   "metadata": {},
   "source": [
    "# SciPy - Library of scientific algorithms for Python"
   ]
  },
  {
   "cell_type": "markdown",
   "metadata": {},
   "source": [
    "Forked from J.R. Johansson (jrjohansson at gmail.com) @ [http://github.com/jrjohansson/scientific-python-lectures](http://github.com/jrjohansson/scientific-python-lectures)."
   ]
  },
  {
   "cell_type": "code",
   "execution_count": 2,
   "metadata": {
    "collapsed": false,
    "execution": {
     "iopub.execute_input": "2022-02-26T13:12:37.214051Z",
     "iopub.status.busy": "2022-02-26T13:12:37.213803Z",
     "iopub.status.idle": "2022-02-26T13:12:37.217693Z",
     "shell.execute_reply": "2022-02-26T13:12:37.217171Z",
     "shell.execute_reply.started": "2022-02-26T13:12:37.213999Z"
    },
    "jupyter": {
     "outputs_hidden": false
    },
    "tags": []
   },
   "outputs": [],
   "source": [
    "%matplotlib inline\n",
    "import matplotlib.pyplot as plt\n",
    "from IPython.display import Image"
   ]
  },
  {
   "cell_type": "markdown",
   "metadata": {},
   "source": [
    "## Introduction"
   ]
  },
  {
   "cell_type": "markdown",
   "metadata": {},
   "source": [
    "The SciPy framework builds on top of the low-level NumPy framework for multidimensional arrays, and provides a large number of higher-level scientific algorithms. Some of the topics that SciPy covers are:\n",
    "\n",
    "* Special functions ([scipy.special](http://docs.scipy.org/doc/scipy/reference/special.html))\n",
    "* Integration ([scipy.integrate](http://docs.scipy.org/doc/scipy/reference/integrate.html))\n",
    "* Optimization ([scipy.optimize](http://docs.scipy.org/doc/scipy/reference/optimize.html))\n",
    "* Interpolation ([scipy.interpolate](http://docs.scipy.org/doc/scipy/reference/interpolate.html))\n",
    "* Fourier Transforms ([scipy.fftpack](http://docs.scipy.org/doc/scipy/reference/fftpack.html))\n",
    "* Signal Processing ([scipy.signal](http://docs.scipy.org/doc/scipy/reference/signal.html))\n",
    "* Linear Algebra ([scipy.linalg](http://docs.scipy.org/doc/scipy/reference/linalg.html))\n",
    "* Sparse Eigenvalue Problems ([scipy.sparse](http://docs.scipy.org/doc/scipy/reference/sparse.html))\n",
    "* Statistics ([scipy.stats](http://docs.scipy.org/doc/scipy/reference/stats.html))\n",
    "* Multi-dimensional image processing ([scipy.ndimage](http://docs.scipy.org/doc/scipy/reference/ndimage.html))\n",
    "* File IO ([scipy.io](http://docs.scipy.org/doc/scipy/reference/io.html))\n",
    "\n",
    "Each of these submodules provides a number of functions and classes that can be used to solve problems in their respective topics.\n",
    "\n",
    "In this lecture we will look at how to use some of these subpackages.\n",
    "\n",
    "To access the SciPy package in a Python program, we start by importing everything from the `scipy` module."
   ]
  },
  {
   "cell_type": "code",
   "execution_count": 76,
   "metadata": {
    "collapsed": false,
    "execution": {
     "iopub.execute_input": "2022-02-26T15:19:55.811999Z",
     "iopub.status.busy": "2022-02-26T15:19:55.811835Z",
     "iopub.status.idle": "2022-02-26T15:19:55.815308Z",
     "shell.execute_reply": "2022-02-26T15:19:55.814654Z",
     "shell.execute_reply.started": "2022-02-26T15:19:55.811982Z"
    },
    "jupyter": {
     "outputs_hidden": false
    },
    "tags": []
   },
   "outputs": [],
   "source": [
    "import numpy as np\n",
    "from scipy import *"
   ]
  },
  {
   "cell_type": "markdown",
   "metadata": {},
   "source": [
    "If we only need to use part of the SciPy framework we can selectively include only those modules we are interested in. For example, to include the linear algebra package under the name `la`, we can do:"
   ]
  },
  {
   "cell_type": "code",
   "execution_count": 77,
   "metadata": {
    "collapsed": false,
    "execution": {
     "iopub.execute_input": "2022-02-26T15:20:19.750548Z",
     "iopub.status.busy": "2022-02-26T15:20:19.750366Z",
     "iopub.status.idle": "2022-02-26T15:20:19.753363Z",
     "shell.execute_reply": "2022-02-26T15:20:19.752818Z",
     "shell.execute_reply.started": "2022-02-26T15:20:19.750532Z"
    },
    "jupyter": {
     "outputs_hidden": false
    },
    "tags": []
   },
   "outputs": [],
   "source": [
    "import scipy.linalg as la"
   ]
  },
  {
   "cell_type": "markdown",
   "metadata": {},
   "source": [
    "## Special functions"
   ]
  },
  {
   "cell_type": "markdown",
   "metadata": {},
   "source": [
    "A large number of mathematical special functions are important for many computional physics problems. SciPy provides implementations of a very extensive set of special functions. For details, see the list of functions in the reference documention at http://docs.scipy.org/doc/scipy/reference/special.html#module-scipy.special. \n",
    "\n",
    "To demonstrate the typical usage of special functions we will look in more detail at the Bessel functions:"
   ]
  },
  {
   "cell_type": "code",
   "execution_count": 78,
   "metadata": {
    "collapsed": false,
    "execution": {
     "iopub.execute_input": "2022-02-26T15:20:23.610670Z",
     "iopub.status.busy": "2022-02-26T15:20:23.610483Z",
     "iopub.status.idle": "2022-02-26T15:20:23.613732Z",
     "shell.execute_reply": "2022-02-26T15:20:23.612973Z",
     "shell.execute_reply.started": "2022-02-26T15:20:23.610654Z"
    },
    "jupyter": {
     "outputs_hidden": false
    },
    "tags": []
   },
   "outputs": [],
   "source": [
    "#\n",
    "# The scipy.special module includes a large number of Bessel-functions\n",
    "# Here we will use the functions jn and yn, which are the Bessel functions \n",
    "# of the first and second kind and real-valued order. We also include the \n",
    "# function jn_zeros and yn_zeros that gives the zeroes of the functions jn\n",
    "# and yn.\n",
    "#\n",
    "from scipy.special import jn, yn, jn_zeros, yn_zeros"
   ]
  },
  {
   "cell_type": "code",
   "execution_count": 80,
   "metadata": {
    "collapsed": false,
    "execution": {
     "iopub.execute_input": "2022-02-26T15:20:35.033023Z",
     "iopub.status.busy": "2022-02-26T15:20:35.032810Z",
     "iopub.status.idle": "2022-02-26T15:20:35.038725Z",
     "shell.execute_reply": "2022-02-26T15:20:35.037999Z",
     "shell.execute_reply.started": "2022-02-26T15:20:35.033000Z"
    },
    "jupyter": {
     "outputs_hidden": false
    },
    "tags": []
   },
   "outputs": [
    {
     "name": "stdout",
     "output_type": "stream",
     "text": [
      "J_0(0.000000) = 1.000000\n",
      "Y_0(2.000000) = 0.510376\n"
     ]
    }
   ],
   "source": [
    "import numpy as np\n",
    "n = 0    # order\n",
    "x = 0.0\n",
    "\n",
    "# Bessel function of first kind\n",
    "print(\"J_%d(%f) = %f\" % (n, x, jn(n, x)))\n",
    "\n",
    "x = 2.0\n",
    "# Bessel function of second kind\n",
    "print(\"Y_%d(%f) = %f\" % (n, x, yn(n, x)))\n",
    "\n",
    "x = np.linspace(0.0, 10.0, 10000)"
   ]
  },
  {
   "cell_type": "code",
   "execution_count": 88,
   "metadata": {
    "collapsed": false,
    "execution": {
     "iopub.execute_input": "2022-02-26T15:23:25.216089Z",
     "iopub.status.busy": "2022-02-26T15:23:25.215897Z",
     "iopub.status.idle": "2022-02-26T15:23:25.389524Z",
     "shell.execute_reply": "2022-02-26T15:23:25.389055Z",
     "shell.execute_reply.started": "2022-02-26T15:23:25.216071Z"
    },
    "jupyter": {
     "outputs_hidden": false
    },
    "tags": []
   },
   "outputs": [
    {
     "data": {
      "image/png": "[encoded data removed]",
      "text/plain": [
       "<Figure size 576x432 with 1 Axes>"
      ]
     },
     "metadata": {
      "needs_background": "light"
     },
     "output_type": "display_data"
    }
   ],
   "source": [
    "import numpy as np\n",
    "\n",
    "x = np.linspace(0, 20, 1000)\n",
    "\n",
    "fig, ax = plt.subplots()\n",
    "for n in range(4):\n",
    "    ax.plot(x, jn(n, x), label=r\"$J_%d(x)$\" % n)\n",
    "    roots = jn_zeros(n,5)\n",
    "    plt.scatter(roots, jn(n,roots))\n",
    "    \n",
    "plt.axhline(y=0.0, color='black', linestyle='-')\n",
    "ax.legend();\n",
    "plt.show()"
   ]
  },
  {
   "cell_type": "code",
   "execution_count": 89,
   "metadata": {
    "collapsed": false,
    "execution": {
     "iopub.execute_input": "2022-02-26T15:23:33.407225Z",
     "iopub.status.busy": "2022-02-26T15:23:33.407021Z",
     "iopub.status.idle": "2022-02-26T15:23:33.411503Z",
     "shell.execute_reply": "2022-02-26T15:23:33.410970Z",
     "shell.execute_reply.started": "2022-02-26T15:23:33.407194Z"
    },
    "jupyter": {
     "outputs_hidden": false
    },
    "tags": []
   },
   "outputs": [
    {
     "data": {
      "text/plain": [
       "array([ 2.19714133,  5.42968104,  8.59600587, 11.74915483])"
      ]
     },
     "execution_count": 89,
     "metadata": {},
     "output_type": "execute_result"
    }
   ],
   "source": [
    "# zeros of Bessel functions\n",
    "n = 0 # order\n",
    "m = 4 # number of roots to compute\n",
    "yn_zeros(1, m)"
   ]
  },
  {
   "cell_type": "markdown",
   "metadata": {},
   "source": [
    "## Integration"
   ]
  },
  {
   "cell_type": "markdown",
   "metadata": {},
   "source": [
    "### Numerical integration: quadrature"
   ]
  },
  {
   "cell_type": "markdown",
   "metadata": {},
   "source": [
    "Numerical evaluation of a function of the type\n",
    "\n",
    "$\\displaystyle \\int_a^b f(x) dx$\n",
    "\n",
    "is called *numerical quadrature*, or simply *quadature*. SciPy provides a series of functions for different kind of quadrature, for example the `quad`, `dblquad` and `tplquad` for single, double and triple integrals, respectively.\n",
    "\n"
   ]
  },
  {
   "cell_type": "code",
   "execution_count": 91,
   "metadata": {
    "collapsed": false,
    "execution": {
     "iopub.execute_input": "2022-02-26T15:23:42.982862Z",
     "iopub.status.busy": "2022-02-26T15:23:42.982702Z",
     "iopub.status.idle": "2022-02-26T15:23:42.985779Z",
     "shell.execute_reply": "2022-02-26T15:23:42.985154Z",
     "shell.execute_reply.started": "2022-02-26T15:23:42.982845Z"
    },
    "jupyter": {
     "outputs_hidden": false
    },
    "tags": []
   },
   "outputs": [],
   "source": [
    "from scipy.integrate import quad"
   ]
  },
  {
   "cell_type": "markdown",
   "metadata": {},
   "source": [
    "The `quad` function takes a large number of optional arguments, which can be used to fine-tune the behaviour of the function (try `help(quad)` for details).\n",
    "\n",
    "The basic usage is as follows:"
   ]
  },
  {
   "cell_type": "code",
   "execution_count": 90,
   "metadata": {
    "collapsed": false,
    "execution": {
     "iopub.execute_input": "2022-02-26T15:23:39.633798Z",
     "iopub.status.busy": "2022-02-26T15:23:39.633612Z",
     "iopub.status.idle": "2022-02-26T15:23:39.636900Z",
     "shell.execute_reply": "2022-02-26T15:23:39.636158Z",
     "shell.execute_reply.started": "2022-02-26T15:23:39.633766Z"
    },
    "jupyter": {
     "outputs_hidden": false
    },
    "tags": []
   },
   "outputs": [],
   "source": [
    "# define a simple function for the integrand\n",
    "def f(x):\n",
    "    return np.sin(x)/x\n",
    "\n",
    "#help(quad)"
   ]
  },
  {
   "cell_type": "code",
   "execution_count": 92,
   "metadata": {
    "collapsed": false,
    "execution": {
     "iopub.execute_input": "2022-02-26T15:23:45.576882Z",
     "iopub.status.busy": "2022-02-26T15:23:45.576695Z",
     "iopub.status.idle": "2022-02-26T15:23:45.580790Z",
     "shell.execute_reply": "2022-02-26T15:23:45.580188Z",
     "shell.execute_reply.started": "2022-02-26T15:23:45.576850Z"
    },
    "jupyter": {
     "outputs_hidden": false
    },
    "tags": []
   },
   "outputs": [
    {
     "name": "stdout",
     "output_type": "stream",
     "text": [
      "integral value = 1.4181515761326284 , absolute error = 2.5246396982818194e-14\n"
     ]
    }
   ],
   "source": [
    "x_lower = 0 # the lower limit of x\n",
    "x_upper = 2 * np.pi # the upper limit of x\n",
    "\n",
    "val, abserr = quad(f, x_lower, x_upper)\n",
    "\n",
    "print(\"integral value =\", val, \", absolute error =\", abserr)"
   ]
  },
  {
   "cell_type": "markdown",
   "metadata": {},
   "source": [
    "If we need to pass extra arguments to integrand function we can use the `args` keyword argument:"
   ]
  },
  {
   "cell_type": "code",
   "execution_count": 93,
   "metadata": {
    "collapsed": false,
    "execution": {
     "iopub.execute_input": "2022-02-26T15:23:51.434288Z",
     "iopub.status.busy": "2022-02-26T15:23:51.434099Z",
     "iopub.status.idle": "2022-02-26T15:23:51.438919Z",
     "shell.execute_reply": "2022-02-26T15:23:51.438324Z",
     "shell.execute_reply.started": "2022-02-26T15:23:51.434256Z"
    },
    "jupyter": {
     "outputs_hidden": false
    },
    "tags": []
   },
   "outputs": [
    {
     "name": "stdout",
     "output_type": "stream",
     "text": [
      "1.2459357644513482 1.1600766172282117e-12\n"
     ]
    }
   ],
   "source": [
    "def integrand(x, n):\n",
    "    \"\"\"\n",
    "    Bessel function of first kind and order n. \n",
    "    \"\"\"\n",
    "    return jn(n, x)\n",
    "\n",
    "\n",
    "x_lower = 0  # the lower limit of x\n",
    "x_upper = 10 # the upper limit of x\n",
    "\n",
    "val, abserr = quad(integrand, x_lower, x_upper, args=(1,))\n",
    "\n",
    "print(val, abserr)"
   ]
  },
  {
   "cell_type": "markdown",
   "metadata": {},
   "source": [
    "## Ordinary differential equations (ODEs)"
   ]
  },
  {
   "cell_type": "markdown",
   "metadata": {},
   "source": [
    "SciPy provides several different ways to solve ODEs. Here, we will use the simplest way, an API based on the function `solve_ivp`. For more information about it, try `help(solve_ivp)`. \n",
    "\n",
    "To use `solve_ivp`, first import it from the `scipy.integrate` module"
   ]
  },
  {
   "cell_type": "code",
   "execution_count": 94,
   "metadata": {
    "collapsed": false,
    "execution": {
     "iopub.execute_input": "2022-02-26T15:23:56.437235Z",
     "iopub.status.busy": "2022-02-26T15:23:56.437048Z",
     "iopub.status.idle": "2022-02-26T15:23:56.440318Z",
     "shell.execute_reply": "2022-02-26T15:23:56.439774Z",
     "shell.execute_reply.started": "2022-02-26T15:23:56.437202Z"
    },
    "jupyter": {
     "outputs_hidden": false
    },
    "tags": []
   },
   "outputs": [],
   "source": [
    "from scipy.integrate import solve_ivp"
   ]
  },
  {
   "cell_type": "markdown",
   "metadata": {},
   "source": [
    "A system of ODEs are usually formulated on standard form before it is attacked numerically. The standard form is:\n",
    "\n",
    "$y' = f(y, t)$\n",
    "\n",
    "where \n",
    "\n",
    "$y = [y_1(t), y_2(t), ..., y_n(t)]$ \n",
    "\n",
    "and $f$ is some function that gives the derivatives of the function $y_i(t)$. To solve an ODE we need to know the function $f$ and an initial condition, $y(0)$.\n",
    "\n",
    "Note that higher-order ODEs can always be written in this form by introducing new variables for the intermediate derivatives.\n",
    "\n",
    "Once we have defined the Python function `f` and array `y_0` (that is $f$ and $y(0)$ in the mathematical formulation), we can use the `odeint` function as:\n",
    "\n",
    "    y_t = solve_ivp(f, (0, t_final), y_0, t_eval=times)\n",
    "\n",
    "where `t` is and array with time-coordinates for which to solve the ODE problem. `y_t` is an array with one row for each point in time in `t`, where each column corresponds to a solution `y_i(t)` at that point in time. \n",
    "\n",
    "We will see how we can implement `f` and `y_0` in Python code in the examples below."
   ]
  },
  {
   "cell_type": "markdown",
   "metadata": {},
   "source": [
    "#### Example: Damped-Forced Oscillator"
   ]
  },
  {
   "cell_type": "markdown",
   "metadata": {},
   "source": [
    "Use the `solve_ivp()` function and plot a solution $x(t)$ for the damped-forced harmonic oscillator, described by the differential equations\n",
    "\n",
    "\\begin{equation}\n",
    "\\frac{d^2x}{dt^2} + \\gamma\\frac{dx}{dt} + x = a_0 \\cos{\\omega t}.\n",
    "\\end{equation}\n",
    "\n",
    "Also, obtain phase space plots for some values of $\\gamma$.\n",
    "\n",
    "We can recast the equation above in terms of the phase space point $y = \\left[y_0, y_1\\right] = \\left[x, \\dot{x}\\right]$, yielding\n",
    "\n",
    "\\begin{align*}\n",
    "\\dot{y}_0 &= y_1\\\\\n",
    "\\dot{y}_1 &= -y_0 - \\gamma y_1 + a_0\\;\\cos{(\\omega t)}\n",
    "\\end{align*}\n",
    "\n",
    "The code cell below has code that uses 'solve_ivp' routine in the 'scipy.integrate' module to solve the dynamics from $y_0=1, y_1=0$ at $t=0$. The next code cell plots the phase space, $y_1$ vs $y_0$, for a numpy grid of initial conditions."
   ]
  },
  {
   "cell_type": "code",
   "execution_count": 96,
   "metadata": {
    "collapsed": false,
    "execution": {
     "iopub.execute_input": "2022-02-26T15:25:46.926270Z",
     "iopub.status.busy": "2022-02-26T15:25:46.925985Z",
     "iopub.status.idle": "2022-02-26T15:25:47.091192Z",
     "shell.execute_reply": "2022-02-26T15:25:47.090800Z",
     "shell.execute_reply.started": "2022-02-26T15:25:46.926254Z"
    },
    "jupyter": {
     "outputs_hidden": false
    },
    "tags": []
   },
   "outputs": [
    {
     "data": {
      "image/png": "[encoded data removed]",
      "text/plain": [
       "<Figure size 576x432 with 1 Axes>"
      ]
     },
     "metadata": {
      "needs_background": "light"
     },
     "output_type": "display_data"
    }
   ],
   "source": [
    "import matplotlib.pyplot as plt\n",
    "plt.rcParams['figure.figsize'] = (8,6)\n",
    "plt.rcParams['font.size'] = 20\n",
    "\n",
    "import numpy as np\n",
    "from scipy.integrate import solve_ivp\n",
    "\n",
    "\n",
    "def func(t, y, g, a, w):\n",
    "    y0, y1 = y\n",
    "    dy0dt = y1 \n",
    "    dy1dt = -y0 - g * y1 + a * np.cos(w*t)\n",
    "    return np.array([dy0dt, dy1dt])\n",
    "\n",
    "a = 0.0\n",
    "w = 0.8\n",
    "y_init = [1.0, 0.0]\n",
    "t_final = 30\n",
    "times = np.linspace(0.0, t_final, 1000)\n",
    "\n",
    "plt.title(\"Amplitude-time\")\n",
    "plt.xlabel('t')\n",
    "plt.ylabel('x', rotation=0)\n",
    "gammas = [0.5, 0.8, 1.0, 2.0]\n",
    "for g in gammas:\n",
    "    soln = solve_ivp(func, (0, t_final), y_init, t_eval=times,\\\n",
    "                     args=(g,a, w))\n",
    "    plt.plot(times, soln.y[0], label=f'g = {g:1.1f}')\n",
    "    \n",
    "plt.legend()   \n",
    "\n",
    "plt.show()"
   ]
  },
  {
   "cell_type": "markdown",
   "metadata": {},
   "source": [
    "## Fourier transform"
   ]
  },
  {
   "cell_type": "markdown",
   "metadata": {},
   "source": [
    "Fourier transforms are one of the universal tools in computational physics, which appear over and over again in different contexts. SciPy provides functions for accessing the classic [FFTPACK](http://www.netlib.org/fftpack/) library from NetLib, which is an efficient and well tested FFT library written in FORTRAN. The SciPy API has a few additional convenience functions, but overall the API is closely related to the original FORTRAN library.\n",
    "\n",
    "To use the `fftpack` module in a python program, include it using:"
   ]
  },
  {
   "cell_type": "code",
   "execution_count": 105,
   "metadata": {
    "collapsed": false,
    "execution": {
     "iopub.execute_input": "2022-02-26T15:28:37.472704Z",
     "iopub.status.busy": "2022-02-26T15:28:37.472518Z",
     "iopub.status.idle": "2022-02-26T15:28:37.476103Z",
     "shell.execute_reply": "2022-02-26T15:28:37.475408Z",
     "shell.execute_reply.started": "2022-02-26T15:28:37.472688Z"
    },
    "jupyter": {
     "outputs_hidden": false
    },
    "tags": []
   },
   "outputs": [],
   "source": [
    "from numpy.fft import fftfreq\n",
    "from scipy.fftpack import fft"
   ]
  },
  {
   "cell_type": "markdown",
   "metadata": {},
   "source": [
    "To demonstrate how to do a fast Fourier transform with SciPy, let's look at the FFT of the solution to the damped oscillator from the previous section, but with a forcing term near resonance."
   ]
  },
  {
   "cell_type": "code",
   "execution_count": 116,
   "metadata": {
    "execution": {
     "iopub.execute_input": "2022-02-26T15:29:45.337951Z",
     "iopub.status.busy": "2022-02-26T15:29:45.337696Z",
     "iopub.status.idle": "2022-02-26T15:29:45.435357Z",
     "shell.execute_reply": "2022-02-26T15:29:45.434775Z",
     "shell.execute_reply.started": "2022-02-26T15:29:45.337928Z"
    },
    "tags": []
   },
   "outputs": [],
   "source": [
    "g = 0.5\n",
    "a = 1.0\n",
    "w = 0.8\n",
    "\n",
    "y_init = [1.0, 0.0]\n",
    "t_final = 300\n",
    "times = np.linspace(0.0, t_final, 10000)\n",
    "\n",
    "soln = solve_ivp(func, (0, t_final), y_init, t_eval=times,\\\n",
    "                     args=(g,a, w))"
   ]
  },
  {
   "cell_type": "code",
   "execution_count": 117,
   "metadata": {
    "collapsed": false,
    "execution": {
     "iopub.execute_input": "2022-02-26T15:29:47.183126Z",
     "iopub.status.busy": "2022-02-26T15:29:47.182915Z",
     "iopub.status.idle": "2022-02-26T15:29:47.187414Z",
     "shell.execute_reply": "2022-02-26T15:29:47.186963Z",
     "shell.execute_reply.started": "2022-02-26T15:29:47.183102Z"
    },
    "jupyter": {
     "outputs_hidden": false
    },
    "tags": []
   },
   "outputs": [],
   "source": [
    "N = len(times)\n",
    "dt = times[1]-times[0]\n",
    "\n",
    "# calculate the fast fourier transform\n",
    "# soln.y is the last solution to the under-damped oscillator from the previous section\n",
    "F = fft(soln.y[0]) \n",
    "\n",
    "# calculate the frequencies for the components in F\n",
    "w = fftfreq(N, dt)"
   ]
  },
  {
   "cell_type": "code",
   "execution_count": 126,
   "metadata": {
    "collapsed": false,
    "execution": {
     "iopub.execute_input": "2022-02-26T15:31:16.379607Z",
     "iopub.status.busy": "2022-02-26T15:31:16.379271Z",
     "iopub.status.idle": "2022-02-26T15:31:16.795452Z",
     "shell.execute_reply": "2022-02-26T15:31:16.794933Z",
     "shell.execute_reply.started": "2022-02-26T15:31:16.379572Z"
    },
    "jupyter": {
     "outputs_hidden": false
    },
    "tags": []
   },
   "outputs": [
    {
     "data": {
      "image/png": "[encoded data removed]",
      "text/plain": [
       "<Figure size 648x216 with 1 Axes>"
      ]
     },
     "metadata": {
      "needs_background": "light"
     },
     "output_type": "display_data"
    }
   ],
   "source": [
    "fig, ax = plt.subplots(figsize=(9,3))\n",
    "ax.plot(2 * np.pi * w, np.abs(F));\n",
    "ax.set_xlim(-1.5, 1.5)\n",
    "plt.show()"
   ]
  },
  {
   "cell_type": "markdown",
   "metadata": {},
   "source": [
    "Since the signal is real, the spectrum is symmetric. We therefore only need to plot the part that corresponds to the postive frequencies. To extract that part of the `w` and `F` we can use some of the indexing tricks for NumPy arrays that we saw in Lecture 2:"
   ]
  },
  {
   "cell_type": "code",
   "execution_count": 127,
   "metadata": {
    "collapsed": false,
    "execution": {
     "iopub.execute_input": "2022-02-26T15:31:20.529364Z",
     "iopub.status.busy": "2022-02-26T15:31:20.529174Z",
     "iopub.status.idle": "2022-02-26T15:31:20.532967Z",
     "shell.execute_reply": "2022-02-26T15:31:20.532434Z",
     "shell.execute_reply.started": "2022-02-26T15:31:20.529330Z"
    },
    "jupyter": {
     "outputs_hidden": false
    },
    "tags": []
   },
   "outputs": [],
   "source": [
    "indices = np.where(w > 0) # select only indices for elements that corresponds to positive frequencies\n",
    "w_pos = w[indices]\n",
    "F_pos = F[indices]"
   ]
  },
  {
   "cell_type": "code",
   "execution_count": 130,
   "metadata": {
    "collapsed": false,
    "execution": {
     "iopub.execute_input": "2022-02-26T15:31:39.873829Z",
     "iopub.status.busy": "2022-02-26T15:31:39.873299Z",
     "iopub.status.idle": "2022-02-26T15:31:40.112999Z",
     "shell.execute_reply": "2022-02-26T15:31:40.112530Z",
     "shell.execute_reply.started": "2022-02-26T15:31:39.873793Z"
    },
    "jupyter": {
     "outputs_hidden": false
    },
    "tags": []
   },
   "outputs": [
    {
     "data": {
      "image/png": "[encoded data removed]",
      "text/plain": [
       "<Figure size 648x216 with 1 Axes>"
      ]
     },
     "metadata": {
      "needs_background": "light"
     },
     "output_type": "display_data"
    }
   ],
   "source": [
    "fig, ax = plt.subplots(figsize=(9,3))\n",
    "ax.plot(2 * np.pi * w_pos, abs(F_pos))\n",
    "ax.set_xlim(0, 1.2);"
   ]
  },
  {
   "cell_type": "markdown",
   "metadata": {},
   "source": [
    "## Linear algebra"
   ]
  },
  {
   "cell_type": "markdown",
   "metadata": {},
   "source": [
    "The linear algebra module contains a lot of matrix related functions, including linear equation solving, eigenvalue solvers, matrix functions (for example matrix-exponentiation), a number of different decompositions (SVD, LU, cholesky), etc. \n",
    "\n",
    "Detailed documetation is available at: http://docs.scipy.org/doc/scipy/reference/linalg.html\n",
    "\n",
    "Here we will look at how to use some of these functions:\n",
    "\n"
   ]
  },
  {
   "cell_type": "markdown",
   "metadata": {},
   "source": [
    "### Linear equation systems"
   ]
  },
  {
   "cell_type": "markdown",
   "metadata": {},
   "source": [
    "Linear equation systems on the matrix form\n",
    "\n",
    "$A x = b$\n",
    "\n",
    "where $A$ is a matrix and $x,b$ are vectors can be solved like:"
   ]
  },
  {
   "cell_type": "code",
   "execution_count": 131,
   "metadata": {
    "execution": {
     "iopub.execute_input": "2022-02-26T15:31:47.646712Z",
     "iopub.status.busy": "2022-02-26T15:31:47.646525Z",
     "iopub.status.idle": "2022-02-26T15:31:47.650070Z",
     "shell.execute_reply": "2022-02-26T15:31:47.649424Z",
     "shell.execute_reply.started": "2022-02-26T15:31:47.646680Z"
    },
    "tags": []
   },
   "outputs": [],
   "source": [
    "from scipy.linalg import solve, eig, eigvals, inv, det"
   ]
  },
  {
   "cell_type": "code",
   "execution_count": 132,
   "metadata": {
    "collapsed": false,
    "execution": {
     "iopub.execute_input": "2022-02-26T15:31:50.560589Z",
     "iopub.status.busy": "2022-02-26T15:31:50.560408Z",
     "iopub.status.idle": "2022-02-26T15:31:50.563866Z",
     "shell.execute_reply": "2022-02-26T15:31:50.563148Z",
     "shell.execute_reply.started": "2022-02-26T15:31:50.560572Z"
    },
    "jupyter": {
     "outputs_hidden": false
    },
    "tags": []
   },
   "outputs": [],
   "source": [
    "A = np.array([[1,2,3], [4,5,6], [7,8,9]])\n",
    "b = np.array([1,2,3])"
   ]
  },
  {
   "cell_type": "code",
   "execution_count": 133,
   "metadata": {
    "collapsed": false,
    "execution": {
     "iopub.execute_input": "2022-02-26T15:31:53.686886Z",
     "iopub.status.busy": "2022-02-26T15:31:53.686700Z",
     "iopub.status.idle": "2022-02-26T15:31:53.691434Z",
     "shell.execute_reply": "2022-02-26T15:31:53.690786Z",
     "shell.execute_reply.started": "2022-02-26T15:31:53.686870Z"
    },
    "jupyter": {
     "outputs_hidden": false
    },
    "tags": []
   },
   "outputs": [
    {
     "name": "stdout",
     "output_type": "stream",
     "text": [
      "[-0.23333333  0.46666667  0.1       ]\n"
     ]
    },
    {
     "name": "stderr",
     "output_type": "stream",
     "text": [
      "/tmp/ipykernel_1700493/380567349.py:1: LinAlgWarning: Ill-conditioned matrix (rcond=2.20282e-18): result may not be accurate.\n",
      "  x = solve(A, b)\n"
     ]
    }
   ],
   "source": [
    "x = solve(A, b)\n",
    "\n",
    "print(x)"
   ]
  },
  {
   "cell_type": "code",
   "execution_count": 134,
   "metadata": {
    "collapsed": false,
    "execution": {
     "iopub.execute_input": "2022-02-26T15:31:56.130618Z",
     "iopub.status.busy": "2022-02-26T15:31:56.130430Z",
     "iopub.status.idle": "2022-02-26T15:31:56.134047Z",
     "shell.execute_reply": "2022-02-26T15:31:56.133485Z",
     "shell.execute_reply.started": "2022-02-26T15:31:56.130588Z"
    },
    "jupyter": {
     "outputs_hidden": false
    },
    "tags": []
   },
   "outputs": [
    {
     "name": "stdout",
     "output_type": "stream",
     "text": [
      "[ 0.00000000e+00 -2.22044605e-16  0.00000000e+00]\n"
     ]
    }
   ],
   "source": [
    "# check\n",
    "print(np.dot(A, x) - b)"
   ]
  },
  {
   "cell_type": "markdown",
   "metadata": {},
   "source": [
    "### Eigenvalues and eigenvectors"
   ]
  },
  {
   "cell_type": "markdown",
   "metadata": {},
   "source": [
    "The eigenvalue problem for a matrix $A$:\n",
    "\n",
    "$\\displaystyle A v_n = \\lambda_n v_n$\n",
    "\n",
    "where $v_n$ is the $n$th eigenvector and $\\lambda_n$ is the $n$th eigenvalue.\n",
    "\n",
    "To calculate eigenvalues of a matrix, use the `eigvals` and for calculating both eigenvalues and eigenvectors, use the function `eig`:"
   ]
  },
  {
   "cell_type": "code",
   "execution_count": 135,
   "metadata": {
    "collapsed": false,
    "execution": {
     "iopub.execute_input": "2022-02-26T15:31:59.247820Z",
     "iopub.status.busy": "2022-02-26T15:31:59.247634Z",
     "iopub.status.idle": "2022-02-26T15:31:59.251418Z",
     "shell.execute_reply": "2022-02-26T15:31:59.250762Z",
     "shell.execute_reply.started": "2022-02-26T15:31:59.247789Z"
    },
    "jupyter": {
     "outputs_hidden": false
    },
    "tags": []
   },
   "outputs": [],
   "source": [
    "evals = eigvals(A)"
   ]
  },
  {
   "cell_type": "code",
   "execution_count": 136,
   "metadata": {
    "collapsed": false,
    "execution": {
     "iopub.execute_input": "2022-02-26T15:32:02.112534Z",
     "iopub.status.busy": "2022-02-26T15:32:02.112338Z",
     "iopub.status.idle": "2022-02-26T15:32:02.116981Z",
     "shell.execute_reply": "2022-02-26T15:32:02.116365Z",
     "shell.execute_reply.started": "2022-02-26T15:32:02.112502Z"
    },
    "jupyter": {
     "outputs_hidden": false
    },
    "tags": []
   },
   "outputs": [
    {
     "data": {
      "text/plain": [
       "array([ 1.61168440e+01+0.j, -1.11684397e+00+0.j, -3.38433605e-16+0.j])"
      ]
     },
     "execution_count": 136,
     "metadata": {},
     "output_type": "execute_result"
    }
   ],
   "source": [
    "evals"
   ]
  },
  {
   "cell_type": "code",
   "execution_count": 137,
   "metadata": {
    "collapsed": false,
    "execution": {
     "iopub.execute_input": "2022-02-26T15:32:04.683224Z",
     "iopub.status.busy": "2022-02-26T15:32:04.683068Z",
     "iopub.status.idle": "2022-02-26T15:32:04.686417Z",
     "shell.execute_reply": "2022-02-26T15:32:04.685930Z",
     "shell.execute_reply.started": "2022-02-26T15:32:04.683207Z"
    },
    "jupyter": {
     "outputs_hidden": false
    },
    "tags": []
   },
   "outputs": [],
   "source": [
    "evals, evecs = eig(A)"
   ]
  },
  {
   "cell_type": "code",
   "execution_count": 138,
   "metadata": {
    "collapsed": false,
    "execution": {
     "iopub.execute_input": "2022-02-26T15:32:06.654511Z",
     "iopub.status.busy": "2022-02-26T15:32:06.654241Z",
     "iopub.status.idle": "2022-02-26T15:32:06.658941Z",
     "shell.execute_reply": "2022-02-26T15:32:06.658418Z",
     "shell.execute_reply.started": "2022-02-26T15:32:06.654489Z"
    },
    "jupyter": {
     "outputs_hidden": false
    },
    "tags": []
   },
   "outputs": [
    {
     "data": {
      "text/plain": [
       "array([ 1.61168440e+01+0.j, -1.11684397e+00+0.j, -3.38433605e-16+0.j])"
      ]
     },
     "execution_count": 138,
     "metadata": {},
     "output_type": "execute_result"
    }
   ],
   "source": [
    "evals"
   ]
  },
  {
   "cell_type": "code",
   "execution_count": 139,
   "metadata": {
    "collapsed": false,
    "execution": {
     "iopub.execute_input": "2022-02-26T15:32:09.436260Z",
     "iopub.status.busy": "2022-02-26T15:32:09.436046Z",
     "iopub.status.idle": "2022-02-26T15:32:09.440048Z",
     "shell.execute_reply": "2022-02-26T15:32:09.439589Z",
     "shell.execute_reply.started": "2022-02-26T15:32:09.436242Z"
    },
    "jupyter": {
     "outputs_hidden": false
    },
    "tags": []
   },
   "outputs": [
    {
     "data": {
      "text/plain": [
       "array([[-0.23197069, -0.78583024,  0.40824829],\n",
       "       [-0.52532209, -0.08675134, -0.81649658],\n",
       "       [-0.8186735 ,  0.61232756,  0.40824829]])"
      ]
     },
     "execution_count": 139,
     "metadata": {},
     "output_type": "execute_result"
    }
   ],
   "source": [
    "evecs"
   ]
  },
  {
   "cell_type": "markdown",
   "metadata": {},
   "source": [
    "The eigenvectors corresponding to the $n$th eigenvalue (stored in `evals[n]`) is the $n$th *column* in `evecs`, i.e., `evecs[:,n]`. To verify this, let's try mutiplying eigenvectors with the matrix and compare to the product of the eigenvector and the eigenvalue:"
   ]
  },
  {
   "cell_type": "code",
   "execution_count": 140,
   "metadata": {
    "collapsed": false,
    "execution": {
     "iopub.execute_input": "2022-02-26T15:32:14.264551Z",
     "iopub.status.busy": "2022-02-26T15:32:14.264394Z",
     "iopub.status.idle": "2022-02-26T15:32:14.269519Z",
     "shell.execute_reply": "2022-02-26T15:32:14.269048Z",
     "shell.execute_reply.started": "2022-02-26T15:32:14.264534Z"
    },
    "jupyter": {
     "outputs_hidden": false
    },
    "tags": []
   },
   "outputs": [
    {
     "data": {
      "text/plain": [
       "1.178305095002461e-15"
      ]
     },
     "execution_count": 140,
     "metadata": {},
     "output_type": "execute_result"
    }
   ],
   "source": [
    "n = 1\n",
    "\n",
    "np.linalg.norm(np.dot(A, evecs[:,n]) - evals[n] * evecs[:,n])"
   ]
  },
  {
   "cell_type": "markdown",
   "metadata": {},
   "source": [
    "There are also more specialized eigensolvers, like the `eigh` for Hermitian matrices. "
   ]
  },
  {
   "cell_type": "markdown",
   "metadata": {},
   "source": [
    "### Matrix operations"
   ]
  },
  {
   "cell_type": "code",
   "execution_count": 143,
   "metadata": {
    "collapsed": false,
    "execution": {
     "iopub.execute_input": "2022-02-26T15:33:25.686857Z",
     "iopub.status.busy": "2022-02-26T15:33:25.686651Z",
     "iopub.status.idle": "2022-02-26T15:33:25.692367Z",
     "shell.execute_reply": "2022-02-26T15:33:25.691934Z",
     "shell.execute_reply.started": "2022-02-26T15:33:25.686840Z"
    },
    "jupyter": {
     "outputs_hidden": false
    },
    "tags": []
   },
   "outputs": [
    {
     "name": "stdout",
     "output_type": "stream",
     "text": [
      "A= [[0.26464184 0.36647285 0.20602466]\n",
      " [0.75511861 0.67238432 0.91263374]\n",
      " [0.73649227 0.98979114 0.49593145]] \n",
      "\n",
      "B= [[-55.67279398   2.166493    19.14126198]\n",
      " [ 29.08010976  -2.0019138   -8.39673634]\n",
      " [ 24.63918669   0.77807365  -9.6512861 ]] \n",
      "\n",
      "A*B = [[ 1. -0. -0.]\n",
      " [ 0.  1. -0.]\n",
      " [ 0. -0.  1.]]\n"
     ]
    }
   ],
   "source": [
    "# the matrix inverse\n",
    "A = np.random.random((3,3))\n",
    "\n",
    "B = inv(A)\n",
    "\n",
    "print(\"A=\", A, \"\\n\\nB=\", B, \"\\n\\nA*B =\", np.round(np.dot(A,B),3))"
   ]
  },
  {
   "cell_type": "code",
   "execution_count": 144,
   "metadata": {
    "collapsed": false,
    "execution": {
     "iopub.execute_input": "2022-02-26T15:33:37.938729Z",
     "iopub.status.busy": "2022-02-26T15:33:37.938544Z",
     "iopub.status.idle": "2022-02-26T15:33:37.942547Z",
     "shell.execute_reply": "2022-02-26T15:33:37.942056Z",
     "shell.execute_reply.started": "2022-02-26T15:33:37.938713Z"
    },
    "jupyter": {
     "outputs_hidden": false
    },
    "tags": []
   },
   "outputs": [
    {
     "data": {
      "text/plain": [
       "0.010235883997667075"
      ]
     },
     "execution_count": 144,
     "metadata": {},
     "output_type": "execute_result"
    }
   ],
   "source": [
    "# determinant\n",
    "det(A)"
   ]
  },
  {
   "cell_type": "code",
   "execution_count": 145,
   "metadata": {
    "collapsed": false,
    "execution": {
     "iopub.execute_input": "2022-02-26T15:33:40.603540Z",
     "iopub.status.busy": "2022-02-26T15:33:40.603307Z",
     "iopub.status.idle": "2022-02-26T15:33:40.608155Z",
     "shell.execute_reply": "2022-02-26T15:33:40.607602Z",
     "shell.execute_reply.started": "2022-02-26T15:33:40.603510Z"
    },
    "jupyter": {
     "outputs_hidden": false
    },
    "tags": []
   },
   "outputs": [
    {
     "data": {
      "text/plain": [
       "(1.9305219807278928, 2.34013668025694)"
      ]
     },
     "execution_count": 145,
     "metadata": {},
     "output_type": "execute_result"
    }
   ],
   "source": [
    "# norms of various orders\n",
    "np.linalg.norm(A, ord=2), np.linalg.norm(A, ord=np.Inf)"
   ]
  },
  {
   "cell_type": "markdown",
   "metadata": {},
   "source": [
    "## Optimization"
   ]
  },
  {
   "cell_type": "markdown",
   "metadata": {},
   "source": [
    "Optimization (finding minima or maxima of a function) is a large field in mathematics, and optimization of complicated functions or in many variables can be rather involved. Here we will only look at a few very simple cases. For a more detailed introduction to optimization with SciPy see: http://scipy-lectures.github.com/advanced/mathematical_optimization/index.html\n",
    "\n",
    "To use the optimization module in scipy first include the `optimize` module:"
   ]
  },
  {
   "cell_type": "code",
   "execution_count": 146,
   "metadata": {
    "collapsed": false,
    "execution": {
     "iopub.execute_input": "2022-02-26T15:33:43.804943Z",
     "iopub.status.busy": "2022-02-26T15:33:43.804229Z",
     "iopub.status.idle": "2022-02-26T15:33:43.807497Z",
     "shell.execute_reply": "2022-02-26T15:33:43.806952Z",
     "shell.execute_reply.started": "2022-02-26T15:33:43.804924Z"
    },
    "jupyter": {
     "outputs_hidden": false
    },
    "tags": []
   },
   "outputs": [],
   "source": [
    "from scipy import optimize"
   ]
  },
  {
   "cell_type": "markdown",
   "metadata": {},
   "source": [
    "### Finding a minima"
   ]
  },
  {
   "cell_type": "markdown",
   "metadata": {},
   "source": [
    "Let's first look at how to find the minima of a simple function of a single variable:"
   ]
  },
  {
   "cell_type": "code",
   "execution_count": 147,
   "metadata": {
    "collapsed": false,
    "execution": {
     "iopub.execute_input": "2022-02-26T15:33:46.719947Z",
     "iopub.status.busy": "2022-02-26T15:33:46.719793Z",
     "iopub.status.idle": "2022-02-26T15:33:46.722882Z",
     "shell.execute_reply": "2022-02-26T15:33:46.722228Z",
     "shell.execute_reply.started": "2022-02-26T15:33:46.719930Z"
    },
    "jupyter": {
     "outputs_hidden": false
    },
    "tags": []
   },
   "outputs": [],
   "source": [
    "def f(x):\n",
    "    return 4*x**3 + (x-2)**2 + x**4"
   ]
  },
  {
   "cell_type": "code",
   "execution_count": 148,
   "metadata": {
    "collapsed": false,
    "execution": {
     "iopub.execute_input": "2022-02-26T15:33:48.811207Z",
     "iopub.status.busy": "2022-02-26T15:33:48.811020Z",
     "iopub.status.idle": "2022-02-26T15:33:48.928561Z",
     "shell.execute_reply": "2022-02-26T15:33:48.928070Z",
     "shell.execute_reply.started": "2022-02-26T15:33:48.811190Z"
    },
    "jupyter": {
     "outputs_hidden": false
    },
    "tags": []
   },
   "outputs": [
    {
     "data": {
      "image/png": "[encoded data removed]",
      "text/plain": [
       "<Figure size 576x432 with 1 Axes>"
      ]
     },
     "metadata": {
      "needs_background": "light"
     },
     "output_type": "display_data"
    }
   ],
   "source": [
    "fig, ax  = plt.subplots()\n",
    "x = np.linspace(-5, 3, 100)\n",
    "ax.plot(x, f(x));"
   ]
  },
  {
   "cell_type": "markdown",
   "metadata": {},
   "source": [
    "We can use the `fmin_bfgs` function to find the minima of a function:"
   ]
  },
  {
   "cell_type": "code",
   "execution_count": 149,
   "metadata": {
    "collapsed": false,
    "execution": {
     "iopub.execute_input": "2022-02-26T15:33:51.483382Z",
     "iopub.status.busy": "2022-02-26T15:33:51.483210Z",
     "iopub.status.idle": "2022-02-26T15:33:51.492507Z",
     "shell.execute_reply": "2022-02-26T15:33:51.491909Z",
     "shell.execute_reply.started": "2022-02-26T15:33:51.483365Z"
    },
    "jupyter": {
     "outputs_hidden": false
    },
    "tags": []
   },
   "outputs": [
    {
     "name": "stdout",
     "output_type": "stream",
     "text": [
      "Optimization terminated successfully.\n",
      "         Current function value: -3.506641\n",
      "         Iterations: 5\n",
      "         Function evaluations: 16\n",
      "         Gradient evaluations: 8\n"
     ]
    },
    {
     "data": {
      "text/plain": [
       "array([-2.67298155])"
      ]
     },
     "execution_count": 149,
     "metadata": {},
     "output_type": "execute_result"
    }
   ],
   "source": [
    "x_min = optimize.fmin_bfgs(f, -2)\n",
    "x_min "
   ]
  },
  {
   "cell_type": "code",
   "execution_count": 150,
   "metadata": {
    "collapsed": false,
    "execution": {
     "iopub.execute_input": "2022-02-26T15:33:53.779322Z",
     "iopub.status.busy": "2022-02-26T15:33:53.779132Z",
     "iopub.status.idle": "2022-02-26T15:33:53.787173Z",
     "shell.execute_reply": "2022-02-26T15:33:53.786631Z",
     "shell.execute_reply.started": "2022-02-26T15:33:53.779305Z"
    },
    "jupyter": {
     "outputs_hidden": false
    },
    "tags": []
   },
   "outputs": [
    {
     "name": "stdout",
     "output_type": "stream",
     "text": [
      "Optimization terminated successfully.\n",
      "         Current function value: 2.804988\n",
      "         Iterations: 3\n",
      "         Function evaluations: 10\n",
      "         Gradient evaluations: 5\n"
     ]
    },
    {
     "data": {
      "text/plain": [
       "array([0.46961745])"
      ]
     },
     "execution_count": 150,
     "metadata": {},
     "output_type": "execute_result"
    }
   ],
   "source": [
    "optimize.fmin_bfgs(f, 0.5) "
   ]
  },
  {
   "cell_type": "markdown",
   "metadata": {},
   "source": [
    "We can also use the `brent` or `fminbound` functions. They have a bit different syntax and use different algorithms. "
   ]
  },
  {
   "cell_type": "code",
   "execution_count": 151,
   "metadata": {
    "collapsed": false,
    "execution": {
     "iopub.execute_input": "2022-02-26T15:33:56.230022Z",
     "iopub.status.busy": "2022-02-26T15:33:56.229472Z",
     "iopub.status.idle": "2022-02-26T15:33:56.233849Z",
     "shell.execute_reply": "2022-02-26T15:33:56.233328Z",
     "shell.execute_reply.started": "2022-02-26T15:33:56.230002Z"
    },
    "jupyter": {
     "outputs_hidden": false
    },
    "tags": []
   },
   "outputs": [
    {
     "data": {
      "text/plain": [
       "0.46961743402759754"
      ]
     },
     "execution_count": 151,
     "metadata": {},
     "output_type": "execute_result"
    }
   ],
   "source": [
    "optimize.brent(f)"
   ]
  },
  {
   "cell_type": "code",
   "execution_count": 152,
   "metadata": {
    "collapsed": false,
    "execution": {
     "iopub.execute_input": "2022-02-26T15:33:59.447328Z",
     "iopub.status.busy": "2022-02-26T15:33:59.447100Z",
     "iopub.status.idle": "2022-02-26T15:33:59.451742Z",
     "shell.execute_reply": "2022-02-26T15:33:59.451143Z",
     "shell.execute_reply.started": "2022-02-26T15:33:59.447310Z"
    },
    "jupyter": {
     "outputs_hidden": false
    },
    "tags": []
   },
   "outputs": [
    {
     "data": {
      "text/plain": [
       "-2.6729822917513886"
      ]
     },
     "execution_count": 152,
     "metadata": {},
     "output_type": "execute_result"
    }
   ],
   "source": [
    "optimize.fminbound(f, -4, 2)"
   ]
  },
  {
   "cell_type": "markdown",
   "metadata": {},
   "source": [
    "### Finding a solution to a function"
   ]
  },
  {
   "cell_type": "markdown",
   "metadata": {},
   "source": [
    "To find the root for a function of the form $f(x) = 0$ we can use the `fsolve` function. It requires an initial guess: "
   ]
  },
  {
   "cell_type": "code",
   "execution_count": 153,
   "metadata": {
    "collapsed": false,
    "execution": {
     "iopub.execute_input": "2022-02-26T15:34:03.064312Z",
     "iopub.status.busy": "2022-02-26T15:34:03.064151Z",
     "iopub.status.idle": "2022-02-26T15:34:03.067616Z",
     "shell.execute_reply": "2022-02-26T15:34:03.066941Z",
     "shell.execute_reply.started": "2022-02-26T15:34:03.064294Z"
    },
    "jupyter": {
     "outputs_hidden": false
    },
    "tags": []
   },
   "outputs": [],
   "source": [
    "omega_c = 3.0\n",
    "def f(omega):\n",
    "    # a transcendental equation: resonance frequencies of a low-Q SQUID terminated microwave resonator\n",
    "    return np.tan(2*np.pi*omega) - omega_c/omega"
   ]
  },
  {
   "cell_type": "code",
   "execution_count": 154,
   "metadata": {
    "collapsed": false,
    "execution": {
     "iopub.execute_input": "2022-02-26T15:34:05.717757Z",
     "iopub.status.busy": "2022-02-26T15:34:05.717594Z",
     "iopub.status.idle": "2022-02-26T15:34:06.742702Z",
     "shell.execute_reply": "2022-02-26T15:34:06.742085Z",
     "shell.execute_reply.started": "2022-02-26T15:34:05.717740Z"
    },
    "jupyter": {
     "outputs_hidden": false
    },
    "tags": []
   },
   "outputs": [
    {
     "name": "stderr",
     "output_type": "stream",
     "text": [
      "/tmp/ipykernel_1700493/1499142750.py:4: RuntimeWarning: divide by zero encountered in true_divide\n",
      "  return np.tan(2*np.pi*omega) - omega_c/omega\n"
     ]
    },
    {
     "data": {
      "image/png": "[encoded data removed]",
      "text/plain": [
       "<Figure size 720x288 with 1 Axes>"
      ]
     },
     "metadata": {
      "needs_background": "light"
     },
     "output_type": "display_data"
    }
   ],
   "source": [
    "fig, ax  = plt.subplots(figsize=(10,4))\n",
    "x = np.linspace(0, 3, 1000)\n",
    "y = f(x)\n",
    "mask = np.where(abs(y) > 50)\n",
    "x[mask] = y[mask] = np.NaN # get rid of vertical line when the function flip sign\n",
    "ax.plot(x, y)\n",
    "ax.plot([0, 3], [0, 0], 'k')\n",
    "ax.set_ylim(-5,5);"
   ]
  },
  {
   "cell_type": "code",
   "execution_count": 68,
   "metadata": {
    "collapsed": false,
    "execution": {
     "iopub.execute_input": "2022-02-26T14:02:36.223872Z",
     "iopub.status.busy": "2022-02-26T14:02:36.223722Z",
     "iopub.status.idle": "2022-02-26T14:02:36.227850Z",
     "shell.execute_reply": "2022-02-26T14:02:36.227372Z",
     "shell.execute_reply.started": "2022-02-26T14:02:36.223856Z"
    },
    "jupyter": {
     "outputs_hidden": false
    },
    "tags": []
   },
   "outputs": [
    {
     "data": {
      "text/plain": [
       "array([0.23743014])"
      ]
     },
     "execution_count": 68,
     "metadata": {},
     "output_type": "execute_result"
    }
   ],
   "source": [
    "optimize.fsolve(f, 0.1)"
   ]
  },
  {
   "cell_type": "code",
   "execution_count": 69,
   "metadata": {
    "collapsed": false,
    "execution": {
     "iopub.execute_input": "2022-02-26T14:02:44.478760Z",
     "iopub.status.busy": "2022-02-26T14:02:44.478609Z",
     "iopub.status.idle": "2022-02-26T14:02:44.483318Z",
     "shell.execute_reply": "2022-02-26T14:02:44.482591Z",
     "shell.execute_reply.started": "2022-02-26T14:02:44.478744Z"
    },
    "jupyter": {
     "outputs_hidden": false
    },
    "tags": []
   },
   "outputs": [
    {
     "data": {
      "text/plain": [
       "array([0.71286972])"
      ]
     },
     "execution_count": 69,
     "metadata": {},
     "output_type": "execute_result"
    }
   ],
   "source": [
    "optimize.fsolve(f, 0.6)"
   ]
  },
  {
   "cell_type": "code",
   "execution_count": 70,
   "metadata": {
    "collapsed": false,
    "execution": {
     "iopub.execute_input": "2022-02-26T14:02:52.949065Z",
     "iopub.status.busy": "2022-02-26T14:02:52.948497Z",
     "iopub.status.idle": "2022-02-26T14:02:52.953385Z",
     "shell.execute_reply": "2022-02-26T14:02:52.952561Z",
     "shell.execute_reply.started": "2022-02-26T14:02:52.949043Z"
    },
    "jupyter": {
     "outputs_hidden": false
    },
    "tags": []
   },
   "outputs": [
    {
     "data": {
      "text/plain": [
       "array([1.18990285])"
      ]
     },
     "execution_count": 70,
     "metadata": {},
     "output_type": "execute_result"
    }
   ],
   "source": [
    "optimize.fsolve(f, 1.1)"
   ]
  },
  {
   "cell_type": "markdown",
   "metadata": {},
   "source": [
    "## Interpolation"
   ]
  },
  {
   "cell_type": "markdown",
   "metadata": {},
   "source": [
    "Interpolation is simple and convenient in scipy: The `interp1d` function, when given arrays describing X and Y data, returns and object that behaves like a function that can be called for an arbitrary value of x (in the range covered by X), and it returns the corresponding interpolated y value:"
   ]
  },
  {
   "cell_type": "code",
   "execution_count": 72,
   "metadata": {
    "collapsed": false,
    "execution": {
     "iopub.execute_input": "2022-02-26T14:04:12.125779Z",
     "iopub.status.busy": "2022-02-26T14:04:12.125619Z",
     "iopub.status.idle": "2022-02-26T14:04:12.133784Z",
     "shell.execute_reply": "2022-02-26T14:04:12.133381Z",
     "shell.execute_reply.started": "2022-02-26T14:04:12.125761Z"
    },
    "jupyter": {
     "outputs_hidden": false
    },
    "tags": []
   },
   "outputs": [],
   "source": [
    "from scipy.interpolate import interp1d"
   ]
  },
  {
   "cell_type": "code",
   "execution_count": 73,
   "metadata": {
    "collapsed": false,
    "execution": {
     "iopub.execute_input": "2022-02-26T14:04:14.449936Z",
     "iopub.status.busy": "2022-02-26T14:04:14.449783Z",
     "iopub.status.idle": "2022-02-26T14:04:14.452969Z",
     "shell.execute_reply": "2022-02-26T14:04:14.452226Z",
     "shell.execute_reply.started": "2022-02-26T14:04:14.449920Z"
    },
    "jupyter": {
     "outputs_hidden": false
    },
    "tags": []
   },
   "outputs": [],
   "source": [
    "def f(x):\n",
    "    return np.sin(x)"
   ]
  },
  {
   "cell_type": "code",
   "execution_count": 74,
   "metadata": {
    "collapsed": false,
    "execution": {
     "iopub.execute_input": "2022-02-26T14:04:16.403416Z",
     "iopub.status.busy": "2022-02-26T14:04:16.403250Z",
     "iopub.status.idle": "2022-02-26T14:04:16.539665Z",
     "shell.execute_reply": "2022-02-26T14:04:16.539141Z",
     "shell.execute_reply.started": "2022-02-26T14:04:16.403389Z"
    },
    "jupyter": {
     "outputs_hidden": false
    },
    "tags": []
   },
   "outputs": [],
   "source": [
    "n = np.arange(0, 10)  \n",
    "x = np.linspace(0, 9, 100)\n",
    "\n",
    "y_meas = f(n) + 0.1 * np.random.randn(len(n)) # simulate measurement with noise\n",
    "y_real = f(x)\n",
    "\n",
    "linear_interpolation = interp1d(n, y_meas)\n",
    "y_interp1 = linear_interpolation(x)\n",
    "\n",
    "cubic_interpolation = interp1d(n, y_meas, kind='cubic')\n",
    "y_interp2 = cubic_interpolation(x)"
   ]
  },
  {
   "cell_type": "code",
   "execution_count": 75,
   "metadata": {
    "collapsed": false,
    "execution": {
     "iopub.execute_input": "2022-02-26T14:04:20.597493Z",
     "iopub.status.busy": "2022-02-26T14:04:20.597328Z",
     "iopub.status.idle": "2022-02-26T14:04:21.252950Z",
     "shell.execute_reply": "2022-02-26T14:04:21.252449Z",
     "shell.execute_reply.started": "2022-02-26T14:04:20.597475Z"
    },
    "jupyter": {
     "outputs_hidden": false
    },
    "tags": []
   },
   "outputs": [
    {
     "data": {
      "image/png": "[encoded data removed]",
      "text/plain": [
       "<Figure size 720x288 with 1 Axes>"
      ]
     },
     "metadata": {
      "needs_background": "light"
     },
     "output_type": "display_data"
    }
   ],
   "source": [
    "fig, ax = plt.subplots(figsize=(10,4))\n",
    "ax.plot(n, y_meas, 'bs', label='noisy data')\n",
    "ax.plot(x, y_real, 'k', lw=2, label='true function')\n",
    "ax.plot(x, y_interp1, 'r', label='linear interp')\n",
    "ax.plot(x, y_interp2, 'g', label='cubic interp')\n",
    "ax.legend(loc=3);"
   ]
  },
  {
   "cell_type": "markdown",
   "metadata": {},
   "source": [
    "## Further reading"
   ]
  },
  {
   "cell_type": "markdown",
   "metadata": {},
   "source": [
    "* http://www.scipy.org - The official web page for the SciPy project.\n",
    "* http://docs.scipy.org/doc/scipy/reference/tutorial/index.html - A tutorial on how to get started using SciPy. \n",
    "* https://github.com/scipy/scipy/ - The SciPy source code. "
   ]
  }
 ],
 "metadata": {
  "kernelspec": {
   "display_name": "Python 3 (ipykernel)",
   "language": "python",
   "name": "python3"
  },
  "language_info": {
   "codemirror_mode": {
    "name": "ipython",
    "version": 3
   },
   "file_extension": ".py",
   "mimetype": "text/x-python",
   "name": "python",
   "nbconvert_exporter": "python",
   "pygments_lexer": "ipython3",
   "version": "3.8.8"
  }
 },
 "nbformat": 4,
 "nbformat_minor": 4
}
