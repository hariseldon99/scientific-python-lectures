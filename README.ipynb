{
 "cells": [
  {
   "cell_type": "markdown",
   "source": [
    "Lectures on scientific computing with Python\n",
    "============================================\n",
    "\n",
    "[![Open In Colab](https://colab.research.google.com/assets/colab-badge.svg)](https://colab.research.google.com/github/hariseldon99/scientific-python-lectures/blob/master/README.ipynb)\n",
    "\n",
    "A set of lectures on scientific computing with Python, using IPython notebooks.\n",
    "\n",
    "To open these notebooks in Jupyter, download the files to a directory on your computer and from that directory run:\n",
    "\n",
    "    $ jupyter notebook\n",
    "\n",
    "This will open a new page in your browser with a list of the available notebooks.\n",
    "\n",
    "Online versions\n",
    "=========================\n",
    "\n",
    "Use the following links:\n",
    "\n",
    "* [Lecture-0 Scientific Computing with Python](http://nbviewer.ipython.org/urls/raw.github.com/hariseldon99/scientific-python-lectures/master/Lecture-0-Scientific-Computing-with-Python.ipynb)\n",
    "* [Lecture-1 Introduction to Python Programming](https://colab.research.google.com/github/hariseldon99/scientific-python-lectures/blob/master/Lecture-1-Introduction-to-Python-Programming.ipynb)\n",
    "* [Lecture-2 Numpy - multidimensional data arrays](https://colab.research.google.com/github/hariseldon99/scientific-python-lectures/blob/master/Lecture-2-Numpy.ipynb)\n",
    "* [Lecture-3 Scipy - Library of scientific algorithms](https://colab.research.google.com/github/hariseldon99/scientific-python-lectures/blob/master/Lecture-3-Scipy.ipynb)\n",
    "* [Lecture-4 Matplotlib - 2D and 3D plotting](https://colab.research.google.com/github/hariseldon99/scientific-python-lectures/blob/master/Lecture-4-Matplotlib.ipynb)\n",
    "* [Lecture-5 Sympy - Symbolic algebra](https://colab.research.google.com/github/hariseldon99/scientific-python-lectures/blob/master/Lecture-5-Sympy.ipynb)\n",
    "* [Lecture-6A C and Fortran integration](https://colab.research.google.com/github/hariseldon99/scientific-python-lectures/blob/master/Lecture-6A-Fortran-and-C.ipynb)\n",
    "* [Lecture-6B HPC](https://colab.research.google.com/github/hariseldon99/scientific-python-lectures/blob/master/Lecture-6B-HPC.ipynb)\n",
    "* [Lecture-7 Revision Control Software](https://colab.research.google.com/github/hariseldon99/scientific-python-lectures/blob/master/Lecture-7-Revision-Control-Software.ipynb)\n",
    "\n",
    "A PDF file containing all the lectures is available here: [Scientific Computing with Python](http://raw.github.com/hariseldon99/scientific-python-lectures/master/Scientific-Computing-with-Python.pdf)\n",
    "\n",
    "\n",
    "License\n",
    "=======\n",
    "This is a fork of [jrjohansson/scientific-python-lectures](https://github.com/jrjohansson/scientific-python-lectures)\n",
    "This work is licensed under a [Creative Commons Attribution 3.0 Unported License.](http://creativecommons.org/licenses/by/3.0/)"
   ],
   "metadata": {
    "collapsed": false
   }
  }
 ],
 "metadata": {
  "kernelspec": {
   "display_name": "Python 3",
   "language": "python",
   "name": "python3"
  },
  "language_info": {
   "codemirror_mode": {
    "name": "ipython",
    "version": 2
   },
   "file_extension": ".py",
   "mimetype": "text/x-python",
   "name": "python",
   "nbconvert_exporter": "python",
   "pygments_lexer": "ipython2",
   "version": "2.7.6"
  }
 },
 "nbformat": 4,
 "nbformat_minor": 0
}